{
 "cells": [
  {
   "cell_type": "code",
   "execution_count": 15,
   "outputs": [],
   "source": [
    "import keras\n",
    "\n",
    "from keras.preprocessing.image import ImageDataGenerator\n",
    "from keras.models import Sequential\n",
    "from keras.utils import np_utils\n",
    "from keras.layers import Dense, Activation, Flatten, Dropout, Conv2D, MaxPooling2D, BatchNormalization, \\\n",
    "    AveragePooling2D, GlobalAveragePooling2D\n",
    "from keras.callbacks import ModelCheckpoint\n",
    "from keras import regularizers, optimizers\n",
    "\n",
    "import numpy as np\n",
    "from matplotlib import pyplot\n",
    "\n",
    "import cv2\n",
    "from sklearn.metrics import roc_curve, roc_auc_score\n",
    "from sklearn.model_selection import train_test_split\n",
    "from keras.callbacks import ModelCheckpoint\n",
    "import matplotlib.pyplot as plt\n",
    "import tensorflow as tf"
   ],
   "metadata": {
    "collapsed": false,
    "pycharm": {
     "name": "#%%\n"
    }
   }
  },
  {
   "cell_type": "code",
   "execution_count": 2,
   "outputs": [
    {
     "name": "stdout",
     "output_type": "stream",
     "text": [
      "Model: \"sequential\"\n",
      "_________________________________________________________________\n",
      "Layer (type)                 Output Shape              Param #   \n",
      "=================================================================\n",
      "CONV_1 (Conv2D)              (None, 224, 224, 16)      448       \n",
      "_________________________________________________________________\n",
      "POOL_1 (MaxPooling2D)        (None, 112, 112, 16)      0         \n",
      "_________________________________________________________________\n",
      "CONV_2 (Conv2D)              (None, 110, 110, 32)      4640      \n",
      "_________________________________________________________________\n",
      "POOL_2 (MaxPooling2D)        (None, 55, 55, 32)        0         \n",
      "_________________________________________________________________\n",
      "CONV_3 (Conv2D)              (None, 53, 53, 64)        18496     \n",
      "_________________________________________________________________\n",
      "POOL_3 (MaxPooling2D)        (None, 26, 26, 64)        0         \n",
      "_________________________________________________________________\n",
      "CONV_4 (Conv2D)              (None, 24, 24, 128)       73856     \n",
      "_________________________________________________________________\n",
      "POOL_4 (MaxPooling2D)        (None, 12, 12, 128)       0         \n",
      "_________________________________________________________________\n",
      "CONV_5 (Conv2D)              (None, 10, 10, 256)       295168    \n",
      "_________________________________________________________________\n",
      "POOL_5 (MaxPooling2D)        (None, 5, 5, 256)         0         \n",
      "_________________________________________________________________\n",
      "CONV_6 (Conv2D)              (None, 3, 3, 512)         1180160   \n",
      "_________________________________________________________________\n",
      "POOL_6 (MaxPooling2D)        (None, 1, 1, 512)         0         \n",
      "_________________________________________________________________\n",
      "GAP (GlobalAveragePooling2D) (None, 512)               0         \n",
      "_________________________________________________________________\n",
      "CL_DET (Dense)               (None, 2)                 1026      \n",
      "=================================================================\n",
      "Total params: 1,573,794\n",
      "Trainable params: 1,573,794\n",
      "Non-trainable params: 0\n",
      "_________________________________________________________________\n"
     ]
    }
   ],
   "source": [
    "def get_st_mod():\n",
    "    md = Sequential()\n",
    "\n",
    "    # CONV 1 & POOL 1\n",
    "    md.add(Conv2D(filters=16, kernel_size=(3, 3), strides=1, padding='same',\n",
    "                  activation='relu',\n",
    "                  input_shape=(224, 224, 3),\n",
    "                  name='CONV_1'))  # -> 224, 224, 16\n",
    "    md.add(MaxPooling2D(pool_size=2, strides=2,\n",
    "                        name='POOL_1'))  # -> 112, 112, 16\n",
    "\n",
    "    # CONV 2 & POOL 2\n",
    "    md.add(Conv2D(filters=32, kernel_size=(3, 3), strides=1, padding='valid',\n",
    "                  activation='relu',\n",
    "                  name='CONV_2'))  # -> 110, 110, 32\n",
    "    md.add(MaxPooling2D(pool_size=2, strides=2,\n",
    "                        name='POOL_2'))  # -> 55, 55, 32\n",
    "\n",
    "    # CONV 3 & POOL 3\n",
    "    md.add(Conv2D(filters=64, kernel_size=(3, 3), strides=1, padding='valid',\n",
    "                  activation='relu',\n",
    "                  name='CONV_3'))  # -> 53, 53, 64\n",
    "    md.add(MaxPooling2D(pool_size=2, strides=2,\n",
    "                        name='POOL_3'))  # -> 26, 26, 64\n",
    "\n",
    "    # CONV 4 & POOL 4\n",
    "    md.add(Conv2D(filters=128, kernel_size=(3, 3), strides=1, padding='valid',\n",
    "                  activation='relu',\n",
    "                  name='CONV_4'))  # -> 24, 24, 128\n",
    "    md.add(MaxPooling2D(pool_size=2, strides=2,\n",
    "                        name='POOL_4'))  # -> 12, 12, 128\n",
    "\n",
    "    # CONV 5 & POOL 5\n",
    "    md.add(Conv2D(filters=256, kernel_size=(3, 3), strides=1, padding='valid',\n",
    "                  activation='relu',\n",
    "                  name='CONV_5'))  # -> 5, 5, 256\n",
    "    md.add(MaxPooling2D(pool_size=2, strides=2,\n",
    "                        name='POOL_5'))  # -> 3, 3, 256\n",
    "\n",
    "    # CONV 6 & POOL 6\n",
    "    md.add(Conv2D(filters=512, kernel_size=(3, 3), strides=1, padding='valid',\n",
    "                  activation='relu',\n",
    "                  name='CONV_6'))  # 1, 1, 512\n",
    "    md.add(MaxPooling2D(pool_size=2, strides=2,\n",
    "                        name='POOL_6'))  # -> 3, 3, 256\n",
    "\n",
    "    # #FLATTEN\n",
    "    # md.add(Flatten())\n",
    "\n",
    "    # #FC 1\n",
    "    # md.add(Dense(units=512, activation='relu',\n",
    "    #              name='FC_1'))\n",
    "    # Global Average Layer\n",
    "    md.add(GlobalAveragePooling2D(name='GAP'))\n",
    "\n",
    "    #SOFT_MAX\n",
    "    md.add(Dense(units=2, activation='softmax',\n",
    "                 name='CL_DET'))\n",
    "\n",
    "    return md\n",
    "\n",
    "\n",
    "model = get_st_mod()\n",
    "model.summary()"
   ],
   "metadata": {
    "collapsed": false,
    "pycharm": {
     "name": "#%%\n"
    }
   }
  },
  {
   "cell_type": "code",
   "execution_count": 3,
   "outputs": [],
   "source": [
    "num_classes = 2\n",
    "\n",
    "\n",
    "def load_data(source_file='micc_f220_classes.txt', source_dir='MICC-F220'):\n",
    "    with open(source_dir + '/' + source_file) as file_with_names:\n",
    "        list_imgs = file_with_names.readlines()\n",
    "    file_with_names.close()\n",
    "\n",
    "    list_img_name_class = []\n",
    "    for line in list_imgs:\n",
    "        line = line[:-1]\n",
    "        list_img_name_class.append((line.split('\\t')[0], int(line.split('\\t')[1])))\n",
    "\n",
    "    x_data = []\n",
    "    y_data = []\n",
    "    for rec in list_img_name_class:\n",
    "        x_data.append(cv2.imread(source_dir + '/resized/' + rec[0]))\n",
    "        y_data.append(rec[1])\n",
    "\n",
    "    x_data = np.array(x_data)\n",
    "    y_data = np_utils.to_categorical(y_data, num_classes)\n",
    "    return x_data, y_data"
   ],
   "metadata": {
    "collapsed": false,
    "pycharm": {
     "name": "#%%\n"
    }
   }
  },
  {
   "cell_type": "code",
   "execution_count": null,
   "outputs": [],
   "source": [
    "xx, yy = load_data()"
   ],
   "metadata": {
    "collapsed": false,
    "pycharm": {
     "name": "#%%\n"
    }
   }
  },
  {
   "cell_type": "code",
   "execution_count": 4,
   "outputs": [
    {
     "name": "stdout",
     "output_type": "stream",
     "text": [
      "220\n",
      "[[0. 1.]\n",
      " [0. 1.]\n",
      " [0. 1.]\n",
      " [0. 1.]\n",
      " [0. 1.]\n",
      " [0. 1.]\n",
      " [0. 1.]\n",
      " [0. 1.]\n",
      " [0. 1.]\n",
      " [0. 1.]\n",
      " [0. 1.]\n",
      " [0. 1.]\n",
      " [0. 1.]\n",
      " [0. 1.]\n",
      " [0. 1.]\n",
      " [0. 1.]\n",
      " [0. 1.]\n",
      " [0. 1.]\n",
      " [0. 1.]\n",
      " [0. 1.]\n",
      " [0. 1.]\n",
      " [0. 1.]\n",
      " [0. 1.]\n",
      " [0. 1.]\n",
      " [0. 1.]\n",
      " [0. 1.]\n",
      " [0. 1.]\n",
      " [0. 1.]\n",
      " [0. 1.]\n",
      " [0. 1.]\n",
      " [0. 1.]\n",
      " [0. 1.]\n",
      " [0. 1.]\n",
      " [0. 1.]\n",
      " [0. 1.]\n",
      " [0. 1.]\n",
      " [0. 1.]\n",
      " [0. 1.]\n",
      " [0. 1.]\n",
      " [0. 1.]\n",
      " [0. 1.]\n",
      " [0. 1.]\n",
      " [0. 1.]\n",
      " [0. 1.]\n",
      " [0. 1.]\n",
      " [0. 1.]\n",
      " [0. 1.]\n",
      " [0. 1.]\n",
      " [0. 1.]\n",
      " [0. 1.]\n",
      " [0. 1.]\n",
      " [0. 1.]\n",
      " [0. 1.]\n",
      " [0. 1.]\n",
      " [0. 1.]\n",
      " [0. 1.]\n",
      " [0. 1.]\n",
      " [0. 1.]\n",
      " [0. 1.]\n",
      " [0. 1.]\n",
      " [0. 1.]\n",
      " [0. 1.]\n",
      " [0. 1.]\n",
      " [0. 1.]\n",
      " [0. 1.]\n",
      " [0. 1.]\n",
      " [0. 1.]\n",
      " [0. 1.]\n",
      " [0. 1.]\n",
      " [0. 1.]\n",
      " [0. 1.]\n",
      " [0. 1.]\n",
      " [0. 1.]\n",
      " [0. 1.]\n",
      " [0. 1.]\n",
      " [0. 1.]\n",
      " [0. 1.]\n",
      " [0. 1.]\n",
      " [0. 1.]\n",
      " [0. 1.]\n",
      " [0. 1.]\n",
      " [0. 1.]\n",
      " [0. 1.]\n",
      " [0. 1.]\n",
      " [0. 1.]\n",
      " [0. 1.]\n",
      " [0. 1.]\n",
      " [0. 1.]\n",
      " [0. 1.]\n",
      " [0. 1.]\n",
      " [0. 1.]\n",
      " [0. 1.]\n",
      " [0. 1.]\n",
      " [0. 1.]\n",
      " [0. 1.]\n",
      " [0. 1.]\n",
      " [0. 1.]\n",
      " [0. 1.]\n",
      " [0. 1.]\n",
      " [0. 1.]\n",
      " [0. 1.]\n",
      " [0. 1.]\n",
      " [0. 1.]\n",
      " [0. 1.]\n",
      " [0. 1.]\n",
      " [0. 1.]\n",
      " [0. 1.]\n",
      " [0. 1.]\n",
      " [0. 1.]\n",
      " [0. 1.]\n",
      " [1. 0.]\n",
      " [1. 0.]\n",
      " [1. 0.]\n",
      " [1. 0.]\n",
      " [1. 0.]\n",
      " [1. 0.]\n",
      " [1. 0.]\n",
      " [1. 0.]\n",
      " [1. 0.]\n",
      " [1. 0.]\n",
      " [1. 0.]\n",
      " [1. 0.]\n",
      " [1. 0.]\n",
      " [1. 0.]\n",
      " [1. 0.]\n",
      " [1. 0.]\n",
      " [1. 0.]\n",
      " [1. 0.]\n",
      " [1. 0.]\n",
      " [1. 0.]\n",
      " [1. 0.]\n",
      " [1. 0.]\n",
      " [1. 0.]\n",
      " [1. 0.]\n",
      " [1. 0.]\n",
      " [1. 0.]\n",
      " [1. 0.]\n",
      " [1. 0.]\n",
      " [1. 0.]\n",
      " [1. 0.]\n",
      " [1. 0.]\n",
      " [1. 0.]\n",
      " [1. 0.]\n",
      " [1. 0.]\n",
      " [1. 0.]\n",
      " [1. 0.]\n",
      " [1. 0.]\n",
      " [1. 0.]\n",
      " [1. 0.]\n",
      " [1. 0.]\n",
      " [1. 0.]\n",
      " [1. 0.]\n",
      " [1. 0.]\n",
      " [1. 0.]\n",
      " [1. 0.]\n",
      " [1. 0.]\n",
      " [1. 0.]\n",
      " [1. 0.]\n",
      " [1. 0.]\n",
      " [1. 0.]\n",
      " [1. 0.]\n",
      " [1. 0.]\n",
      " [1. 0.]\n",
      " [1. 0.]\n",
      " [1. 0.]\n",
      " [1. 0.]\n",
      " [1. 0.]\n",
      " [1. 0.]\n",
      " [1. 0.]\n",
      " [1. 0.]\n",
      " [1. 0.]\n",
      " [1. 0.]\n",
      " [1. 0.]\n",
      " [1. 0.]\n",
      " [1. 0.]\n",
      " [1. 0.]\n",
      " [1. 0.]\n",
      " [1. 0.]\n",
      " [1. 0.]\n",
      " [1. 0.]\n",
      " [1. 0.]\n",
      " [1. 0.]\n",
      " [1. 0.]\n",
      " [1. 0.]\n",
      " [1. 0.]\n",
      " [1. 0.]\n",
      " [1. 0.]\n",
      " [1. 0.]\n",
      " [1. 0.]\n",
      " [1. 0.]\n",
      " [1. 0.]\n",
      " [1. 0.]\n",
      " [1. 0.]\n",
      " [1. 0.]\n",
      " [1. 0.]\n",
      " [1. 0.]\n",
      " [1. 0.]\n",
      " [1. 0.]\n",
      " [1. 0.]\n",
      " [1. 0.]\n",
      " [1. 0.]\n",
      " [1. 0.]\n",
      " [1. 0.]\n",
      " [1. 0.]\n",
      " [1. 0.]\n",
      " [1. 0.]\n",
      " [1. 0.]\n",
      " [1. 0.]\n",
      " [1. 0.]\n",
      " [1. 0.]\n",
      " [1. 0.]\n",
      " [1. 0.]\n",
      " [1. 0.]\n",
      " [1. 0.]\n",
      " [1. 0.]\n",
      " [1. 0.]\n",
      " [1. 0.]\n",
      " [1. 0.]\n",
      " [1. 0.]\n",
      " [1. 0.]]\n"
     ]
    }
   ],
   "source": [
    "print(len(xx))\n",
    "print(yy)"
   ],
   "metadata": {
    "collapsed": false,
    "pycharm": {
     "name": "#%%\n"
    }
   }
  },
  {
   "cell_type": "code",
   "execution_count": 5,
   "outputs": [],
   "source": [
    "xx = xx / 255.0"
   ],
   "metadata": {
    "collapsed": false,
    "pycharm": {
     "name": "#%%\n"
    }
   }
  },
  {
   "cell_type": "code",
   "execution_count": 6,
   "outputs": [],
   "source": [
    "train_size = 0.9\n",
    "test_size = 0.1\n",
    "\n",
    "x_train, x_test, y_train, y_test = train_test_split(xx, yy, test_size=test_size, random_state=13)"
   ],
   "metadata": {
    "collapsed": false,
    "pycharm": {
     "name": "#%%\n"
    }
   }
  },
  {
   "cell_type": "code",
   "execution_count": 7,
   "outputs": [],
   "source": [
    "model.compile(loss='categorical_crossentropy',\n",
    "              optimizer='adamax',\n",
    "              metrics=['accuracy'])"
   ],
   "metadata": {
    "collapsed": false,
    "pycharm": {
     "name": "#%%\n"
    }
   }
  },
  {
   "cell_type": "code",
   "execution_count": 8,
   "outputs": [
    {
     "name": "stdout",
     "output_type": "stream",
     "text": [
      "Epoch 1/50\n",
      "4/4 - 4s - loss: 0.6933 - accuracy: 0.5202 - val_loss: 0.7147 - val_accuracy: 0.1364\n",
      "Epoch 2/50\n",
      "4/4 - 0s - loss: 0.6864 - accuracy: 0.5404 - val_loss: 0.7854 - val_accuracy: 0.1364\n",
      "Epoch 3/50\n",
      "4/4 - 0s - loss: 0.6755 - accuracy: 0.5404 - val_loss: 0.8019 - val_accuracy: 0.1364\n",
      "Epoch 4/50\n",
      "4/4 - 0s - loss: 0.6638 - accuracy: 0.5404 - val_loss: 0.7722 - val_accuracy: 0.1364\n",
      "Epoch 5/50\n",
      "4/4 - 0s - loss: 0.6516 - accuracy: 0.5404 - val_loss: 0.8311 - val_accuracy: 0.1364\n",
      "Epoch 6/50\n",
      "4/4 - 0s - loss: 0.6331 - accuracy: 0.5505 - val_loss: 0.8525 - val_accuracy: 0.2273\n",
      "Epoch 7/50\n",
      "4/4 - 0s - loss: 0.6199 - accuracy: 0.5859 - val_loss: 0.7722 - val_accuracy: 0.4091\n",
      "Epoch 8/50\n",
      "4/4 - 0s - loss: 0.5928 - accuracy: 0.7374 - val_loss: 0.8125 - val_accuracy: 0.4091\n",
      "Epoch 9/50\n",
      "4/4 - 0s - loss: 0.5711 - accuracy: 0.6970 - val_loss: 0.6405 - val_accuracy: 0.9091\n",
      "Epoch 10/50\n",
      "4/4 - 0s - loss: 0.5447 - accuracy: 0.7626 - val_loss: 0.7188 - val_accuracy: 0.7273\n",
      "Epoch 11/50\n",
      "4/4 - 0s - loss: 0.5279 - accuracy: 0.7778 - val_loss: 0.5921 - val_accuracy: 0.8636\n",
      "Epoch 12/50\n",
      "4/4 - 0s - loss: 0.4752 - accuracy: 0.8131 - val_loss: 0.6141 - val_accuracy: 0.8636\n",
      "Epoch 13/50\n",
      "4/4 - 0s - loss: 0.4450 - accuracy: 0.7929 - val_loss: 0.5344 - val_accuracy: 0.8636\n",
      "Epoch 14/50\n",
      "4/4 - 0s - loss: 0.4112 - accuracy: 0.8131 - val_loss: 0.8572 - val_accuracy: 0.7727\n",
      "Epoch 15/50\n",
      "4/4 - 0s - loss: 0.4464 - accuracy: 0.7929 - val_loss: 0.5115 - val_accuracy: 0.8636\n",
      "Epoch 16/50\n",
      "4/4 - 0s - loss: 0.3560 - accuracy: 0.8990 - val_loss: 0.5917 - val_accuracy: 0.8636\n",
      "Epoch 17/50\n",
      "4/4 - 0s - loss: 0.3191 - accuracy: 0.9293 - val_loss: 0.3788 - val_accuracy: 0.9545\n",
      "Epoch 18/50\n",
      "4/4 - 0s - loss: 0.3002 - accuracy: 0.8889 - val_loss: 0.5342 - val_accuracy: 0.9091\n",
      "Epoch 19/50\n",
      "4/4 - 0s - loss: 0.2812 - accuracy: 0.9343 - val_loss: 0.4957 - val_accuracy: 0.9091\n",
      "Epoch 20/50\n",
      "4/4 - 1s - loss: 0.2682 - accuracy: 0.9242 - val_loss: 0.4019 - val_accuracy: 0.9091\n",
      "Epoch 21/50\n",
      "4/4 - 0s - loss: 0.2327 - accuracy: 0.9394 - val_loss: 0.5543 - val_accuracy: 0.9091\n",
      "Epoch 22/50\n",
      "4/4 - 0s - loss: 0.2364 - accuracy: 0.9293 - val_loss: 0.6685 - val_accuracy: 0.9091\n",
      "Epoch 23/50\n",
      "4/4 - 0s - loss: 0.3008 - accuracy: 0.9192 - val_loss: 0.2357 - val_accuracy: 0.8182\n",
      "Epoch 24/50\n",
      "4/4 - 0s - loss: 0.5071 - accuracy: 0.7374 - val_loss: 0.9104 - val_accuracy: 0.7273\n",
      "Epoch 25/50\n",
      "4/4 - 0s - loss: 0.5139 - accuracy: 0.8636 - val_loss: 0.6039 - val_accuracy: 0.9091\n",
      "Epoch 26/50\n",
      "4/4 - 1s - loss: 0.2956 - accuracy: 0.9343 - val_loss: 0.2991 - val_accuracy: 0.9091\n",
      "Epoch 27/50\n",
      "4/4 - 0s - loss: 0.3470 - accuracy: 0.8939 - val_loss: 0.4890 - val_accuracy: 0.9091\n",
      "Epoch 28/50\n",
      "4/4 - 1s - loss: 0.2979 - accuracy: 0.9141 - val_loss: 0.6552 - val_accuracy: 0.8636\n",
      "Epoch 29/50\n",
      "4/4 - 0s - loss: 0.2405 - accuracy: 0.9343 - val_loss: 0.2615 - val_accuracy: 0.9545\n",
      "Epoch 30/50\n",
      "4/4 - 1s - loss: 0.3953 - accuracy: 0.8131 - val_loss: 0.3928 - val_accuracy: 0.9091\n",
      "Epoch 31/50\n",
      "4/4 - 0s - loss: 0.2343 - accuracy: 0.9343 - val_loss: 0.7340 - val_accuracy: 0.8182\n",
      "Epoch 32/50\n",
      "4/4 - 0s - loss: 0.3217 - accuracy: 0.9192 - val_loss: 0.5039 - val_accuracy: 0.9091\n",
      "Epoch 33/50\n",
      "4/4 - 1s - loss: 0.2413 - accuracy: 0.9444 - val_loss: 0.3092 - val_accuracy: 0.9545\n",
      "Epoch 34/50\n",
      "4/4 - 1s - loss: 0.2543 - accuracy: 0.9495 - val_loss: 0.3028 - val_accuracy: 0.9545\n",
      "Epoch 35/50\n",
      "4/4 - 1s - loss: 0.2229 - accuracy: 0.9495 - val_loss: 0.3792 - val_accuracy: 0.9091\n",
      "Epoch 36/50\n",
      "4/4 - 0s - loss: 0.2058 - accuracy: 0.9495 - val_loss: 0.3189 - val_accuracy: 0.9545\n",
      "Epoch 37/50\n",
      "4/4 - 0s - loss: 0.2107 - accuracy: 0.9495 - val_loss: 0.3318 - val_accuracy: 0.9091\n",
      "Epoch 38/50\n",
      "4/4 - 0s - loss: 0.2018 - accuracy: 0.9495 - val_loss: 0.3426 - val_accuracy: 0.9091\n",
      "Epoch 39/50\n",
      "4/4 - 0s - loss: 0.1954 - accuracy: 0.9495 - val_loss: 0.3205 - val_accuracy: 0.9545\n",
      "Epoch 40/50\n",
      "4/4 - 0s - loss: 0.1861 - accuracy: 0.9495 - val_loss: 0.2357 - val_accuracy: 0.9545\n",
      "Epoch 41/50\n",
      "4/4 - 0s - loss: 0.2085 - accuracy: 0.9394 - val_loss: 0.2865 - val_accuracy: 0.9545\n",
      "Epoch 42/50\n",
      "4/4 - 0s - loss: 0.1939 - accuracy: 0.9495 - val_loss: 0.4449 - val_accuracy: 0.9091\n",
      "Epoch 43/50\n",
      "4/4 - 0s - loss: 0.2205 - accuracy: 0.9444 - val_loss: 0.3043 - val_accuracy: 0.9545\n",
      "Epoch 44/50\n",
      "4/4 - 0s - loss: 0.1931 - accuracy: 0.9495 - val_loss: 0.2268 - val_accuracy: 0.9545\n",
      "Epoch 45/50\n",
      "4/4 - 0s - loss: 0.1994 - accuracy: 0.9495 - val_loss: 0.2976 - val_accuracy: 0.9545\n",
      "Epoch 46/50\n",
      "4/4 - 0s - loss: 0.1987 - accuracy: 0.9495 - val_loss: 0.2404 - val_accuracy: 0.9545\n",
      "Epoch 47/50\n",
      "4/4 - 0s - loss: 0.1913 - accuracy: 0.9495 - val_loss: 0.2240 - val_accuracy: 0.9545\n",
      "Epoch 48/50\n",
      "4/4 - 0s - loss: 0.2478 - accuracy: 0.8990 - val_loss: 0.2038 - val_accuracy: 0.9545\n",
      "Epoch 49/50\n",
      "4/4 - 0s - loss: 0.2009 - accuracy: 0.9495 - val_loss: 0.3505 - val_accuracy: 0.9545\n",
      "Epoch 50/50\n",
      "4/4 - 0s - loss: 0.1951 - accuracy: 0.9495 - val_loss: 0.3122 - val_accuracy: 0.9545\n"
     ]
    }
   ],
   "source": [
    "batch_size = 64\n",
    "epochs = 50\n",
    "model_file_path = 'MICC-F220/test_1_micc_f220.hdf5'\n",
    "\n",
    "checkpointer = ModelCheckpoint(filepath=model_file_path, verpose=1,\n",
    "                               save_best_only=True)\n",
    "\n",
    "history = model.fit(x_train, y_train, batch_size=batch_size, epochs=epochs,\n",
    "                    validation_data=(x_test, y_test),\n",
    "                    verbose=2, shuffle=True,\n",
    "                    callbacks=[checkpointer])"
   ],
   "metadata": {
    "collapsed": false,
    "pycharm": {
     "name": "#%%\n"
    }
   }
  },
  {
   "cell_type": "code",
   "execution_count": 10,
   "outputs": [
    {
     "name": "stdout",
     "output_type": "stream",
     "text": [
      "1/1 [==============================] - 0s 31ms/step - loss: 0.3122 - accuracy: 0.9545\n",
      "Test result: 95.455 loss: 0.312\n"
     ]
    }
   ],
   "source": [
    "scores = model.evaluate(x_test, y_test, batch_size=128, verbose=1)\n",
    "print('Test result: %.3f loss: %.3f' % (scores[1] * 100, scores [0]))"
   ],
   "metadata": {
    "collapsed": false,
    "pycharm": {
     "name": "#%%\n"
    }
   }
  },
  {
   "cell_type": "code",
   "execution_count": 13,
   "outputs": [
    {
     "data": {
      "text/plain": "<Figure size 432x288 with 1 Axes>",
      "image/png": "[encoded data removed]"
     },
     "metadata": {
      "needs_background": "light"
     },
     "output_type": "display_data"
    }
   ],
   "source": [
    "plt.plot(history.history['accuracy'], label='train acc')\n",
    "plt.plot(history.history['val_accuracy'], label='val acc')\n",
    "plt.legend()\n",
    "plt.show()"
   ],
   "metadata": {
    "collapsed": false,
    "pycharm": {
     "name": "#%%\n"
    }
   }
  },
  {
   "cell_type": "code",
   "execution_count": 14,
   "outputs": [
    {
     "data": {
      "text/plain": "<Figure size 432x288 with 1 Axes>",
      "image/png": "[encoded data removed]"
     },
     "metadata": {
      "needs_background": "light"
     },
     "output_type": "display_data"
    }
   ],
   "source": [
    "plt.plot(history.history['loss'], label='train loss')\n",
    "plt.plot(history.history['val_loss'], label='val loss')\n",
    "plt.legend()\n",
    "plt.show()"
   ],
   "metadata": {
    "collapsed": false,
    "pycharm": {
     "name": "#%%\n"
    }
   }
  },
  {
   "cell_type": "code",
   "execution_count": 16,
   "outputs": [
    {
     "name": "stdout",
     "output_type": "stream",
     "text": [
      "tf.Tensor(\n",
      "[[18  1]\n",
      " [ 0  3]], shape=(2, 2), dtype=int32)\n"
     ]
    }
   ],
   "source": [
    "y_test_pred = model.predict(x_test)\n",
    "confusion_matrix = tf.math.confusion_matrix(y_test.argmax(axis=1), y_test_pred.argmax(axis=1))\n",
    "print(confusion_matrix)"
   ],
   "metadata": {
    "collapsed": false,
    "pycharm": {
     "name": "#%%\n"
    }
   }
  },
  {
   "cell_type": "code",
   "execution_count": 17,
   "outputs": [
    {
     "name": "stdout",
     "output_type": "stream",
     "text": [
      "[[1. 0.]\n",
      " [1. 0.]\n",
      " [1. 0.]\n",
      " [1. 0.]\n",
      " [1. 0.]\n",
      " [1. 0.]\n",
      " [1. 0.]\n",
      " [1. 0.]\n",
      " [1. 0.]\n",
      " [1. 0.]\n",
      " [0. 1.]\n",
      " [1. 0.]\n",
      " [1. 0.]\n",
      " [1. 0.]\n",
      " [1. 0.]\n",
      " [1. 0.]\n",
      " [1. 0.]\n",
      " [0. 1.]\n",
      " [1. 0.]\n",
      " [1. 0.]\n",
      " [0. 1.]\n",
      " [1. 0.]]\n"
     ]
    }
   ],
   "source": [
    "print(y_test)"
   ],
   "metadata": {
    "collapsed": false,
    "pycharm": {
     "name": "#%%\n"
    }
   }
  },
  {
   "cell_type": "code",
   "execution_count": 18,
   "outputs": [
    {
     "data": {
      "text/plain": "<Figure size 432x288 with 1 Axes>",
      "image/png": "[encoded data removed]"
     },
     "metadata": {
      "needs_background": "light"
     },
     "output_type": "display_data"
    }
   ],
   "source": [
    "fpr_m, tpr_m, thresholds_m = roc_curve(y_test.argmax(axis=1), y_test_pred.argmax(axis=1))\n",
    "\n",
    "def plot_roc_curve(fpr, tpr):\n",
    "    plt.plot(fpr,tpr)\n",
    "    plt.axis([0,1,0,1])\n",
    "    plt.xlabel('False Positive Rate')\n",
    "    plt.ylabel('True Positive Rate')\n",
    "    plt.show()\n",
    "\n",
    "plot_roc_curve (fpr_m, tpr_m)"
   ],
   "metadata": {
    "collapsed": false,
    "pycharm": {
     "name": "#%%\n"
    }
   }
  },
  {
   "cell_type": "code",
   "execution_count": 22,
   "outputs": [
    {
     "name": "stdout",
     "output_type": "stream",
     "text": [
      "1/1 [==============================] - 0s 34ms/step - loss: 2.6513 - accuracy: 0.2500\n",
      "Test result: 25.000 loss: 2.651\n",
      "tf.Tensor(\n",
      "[[0 0]\n",
      " [6 2]], shape=(2, 2), dtype=int32)\n"
     ]
    }
   ],
   "source": [
    "xx_f8, yy_f8 = load_data(source_file='micc_f8_names.txt', source_dir='MICC-F8multi')\n",
    "xx_f8 = xx_f8 / 255.0\n",
    "\n",
    "scores = model.evaluate(xx_f8, yy_f8, batch_size=128, verbose=1)\n",
    "print('Test result: %.3f loss: %.3f' % (scores[1] * 100, scores [0]))\n",
    "\n",
    "yy_f8_pred = model.predict(xx_f8)\n",
    "confusion_matrix = tf.math.confusion_matrix(yy_f8.argmax(axis=1), yy_f8_pred.argmax(axis=1))\n",
    "print(confusion_matrix)"
   ],
   "metadata": {
    "collapsed": false,
    "pycharm": {
     "name": "#%%\n"
    }
   }
  },
  {
   "cell_type": "code",
   "execution_count": 23,
   "outputs": [
    {
     "name": "stdout",
     "output_type": "stream",
     "text": [
      "1/1 [==============================] - 0s 23ms/step - loss: 1.9079 - accuracy: 0.6250\n",
      "Test result: 62.500 loss: 1.908\n",
      "tf.Tensor(\n",
      "[[4 0]\n",
      " [3 1]], shape=(2, 2), dtype=int32)\n"
     ]
    }
   ],
   "source": [
    "xx_our, yy_our = load_data(source_file='our_test_classes.txt', source_dir='Our_test')\n",
    "xx_our = xx_our / 255.0\n",
    "\n",
    "scores = model.evaluate(xx_our, yy_our, batch_size=128, verbose=1)\n",
    "print('Test result: %.3f loss: %.3f' % (scores[1] * 100, scores[0]))\n",
    "\n",
    "yy_our_pred = model.predict(xx_our)\n",
    "confusion_matrix = tf.math.confusion_matrix(yy_our.argmax(axis=1), yy_our_pred.argmax(axis=1))\n",
    "print(confusion_matrix)"
   ],
   "metadata": {
    "collapsed": false,
    "pycharm": {
     "name": "#%%\n"
    }
   }
  },
  {
   "cell_type": "code",
   "execution_count": null,
   "outputs": [],
   "source": [],
   "metadata": {
    "collapsed": false,
    "pycharm": {
     "name": "#%%\n"
    }
   }
  }
 ],
 "metadata": {
  "kernelspec": {
   "display_name": "Python 3",
   "language": "python",
   "name": "python3"
  },
  "language_info": {
   "codemirror_mode": {
    "name": "ipython",
    "version": 2
   },
   "file_extension": ".py",
   "mimetype": "text/x-python",
   "name": "python",
   "nbconvert_exporter": "python",
   "pygments_lexer": "ipython2",
   "version": "2.7.6"
  }
 },
 "nbformat": 4,
 "nbformat_minor": 0
}