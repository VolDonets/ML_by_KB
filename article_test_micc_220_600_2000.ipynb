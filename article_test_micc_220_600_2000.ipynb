{
 "cells": [
  {
   "cell_type": "code",
   "execution_count": 1,
   "outputs": [],
   "source": [
    "import keras\n",
    "\n",
    "from keras.preprocessing.image import ImageDataGenerator\n",
    "from keras.models import Sequential\n",
    "from keras.utils import np_utils\n",
    "from keras.layers import Dense, Activation, Flatten, Dropout, Conv2D, MaxPooling2D, BatchNormalization, \\\n",
    "    AveragePooling2D, GlobalAveragePooling2D\n",
    "from keras.callbacks import ModelCheckpoint\n",
    "from keras import regularizers, optimizers\n",
    "\n",
    "import numpy as np\n",
    "from matplotlib import pyplot\n",
    "\n",
    "import cv2\n",
    "from sklearn.metrics import roc_curve, roc_auc_score\n",
    "from sklearn.model_selection import train_test_split\n",
    "from keras.callbacks import ModelCheckpoint\n",
    "import matplotlib.pyplot as plt\n",
    "import tensorflow as tf"
   ],
   "metadata": {
    "collapsed": false,
    "pycharm": {
     "name": "#%%\n"
    }
   }
  },
  {
   "cell_type": "code",
   "execution_count": 2,
   "outputs": [
    {
     "name": "stdout",
     "output_type": "stream",
     "text": [
      "Model: \"sequential\"\n",
      "_________________________________________________________________\n",
      "Layer (type)                 Output Shape              Param #   \n",
      "=================================================================\n",
      "CONV_1 (Conv2D)              (None, 224, 224, 16)      448       \n",
      "_________________________________________________________________\n",
      "POOL_1 (MaxPooling2D)        (None, 112, 112, 16)      0         \n",
      "_________________________________________________________________\n",
      "CONV_2 (Conv2D)              (None, 110, 110, 32)      4640      \n",
      "_________________________________________________________________\n",
      "POOL_2 (MaxPooling2D)        (None, 55, 55, 32)        0         \n",
      "_________________________________________________________________\n",
      "CONV_3 (Conv2D)              (None, 53, 53, 64)        18496     \n",
      "_________________________________________________________________\n",
      "POOL_3 (MaxPooling2D)        (None, 26, 26, 64)        0         \n",
      "_________________________________________________________________\n",
      "CONV_4 (Conv2D)              (None, 24, 24, 128)       73856     \n",
      "_________________________________________________________________\n",
      "POOL_4 (MaxPooling2D)        (None, 12, 12, 128)       0         \n",
      "_________________________________________________________________\n",
      "CONV_5 (Conv2D)              (None, 10, 10, 256)       295168    \n",
      "_________________________________________________________________\n",
      "POOL_5 (MaxPooling2D)        (None, 5, 5, 256)         0         \n",
      "_________________________________________________________________\n",
      "CONV_6 (Conv2D)              (None, 3, 3, 512)         1180160   \n",
      "_________________________________________________________________\n",
      "POOL_6 (MaxPooling2D)        (None, 1, 1, 512)         0         \n",
      "_________________________________________________________________\n",
      "GAP (GlobalAveragePooling2D) (None, 512)               0         \n",
      "_________________________________________________________________\n",
      "CL_DET (Dense)               (None, 2)                 1026      \n",
      "=================================================================\n",
      "Total params: 1,573,794\n",
      "Trainable params: 1,573,794\n",
      "Non-trainable params: 0\n",
      "_________________________________________________________________\n"
     ]
    }
   ],
   "source": [
    "def get_st_mod():\n",
    "    md = Sequential()\n",
    "\n",
    "    # CONV 1 & POOL 1\n",
    "    md.add(Conv2D(filters=16, kernel_size=(3, 3), strides=1, padding='same',\n",
    "                  activation='relu',\n",
    "                  input_shape=(224, 224, 3),\n",
    "                  name='CONV_1'))  # -> 224, 224, 16\n",
    "    md.add(MaxPooling2D(pool_size=2, strides=2,\n",
    "                        name='POOL_1'))  # -> 112, 112, 16\n",
    "\n",
    "    # CONV 2 & POOL 2\n",
    "    md.add(Conv2D(filters=32, kernel_size=(3, 3), strides=1, padding='valid',\n",
    "                  activation='relu',\n",
    "                  name='CONV_2'))  # -> 110, 110, 32\n",
    "    md.add(MaxPooling2D(pool_size=2, strides=2,\n",
    "                        name='POOL_2'))  # -> 55, 55, 32\n",
    "\n",
    "    # CONV 3 & POOL 3\n",
    "    md.add(Conv2D(filters=64, kernel_size=(3, 3), strides=1, padding='valid',\n",
    "                  activation='relu',\n",
    "                  name='CONV_3'))  # -> 53, 53, 64\n",
    "    md.add(MaxPooling2D(pool_size=2, strides=2,\n",
    "                        name='POOL_3'))  # -> 26, 26, 64\n",
    "\n",
    "    # CONV 4 & POOL 4\n",
    "    md.add(Conv2D(filters=128, kernel_size=(3, 3), strides=1, padding='valid',\n",
    "                  activation='relu',\n",
    "                  name='CONV_4'))  # -> 24, 24, 128\n",
    "    md.add(MaxPooling2D(pool_size=2, strides=2,\n",
    "                        name='POOL_4'))  # -> 12, 12, 128\n",
    "\n",
    "    # CONV 5 & POOL 5\n",
    "    md.add(Conv2D(filters=256, kernel_size=(3, 3), strides=1, padding='valid',\n",
    "                  activation='relu',\n",
    "                  name='CONV_5'))  # -> 5, 5, 256\n",
    "    md.add(MaxPooling2D(pool_size=2, strides=2,\n",
    "                        name='POOL_5'))  # -> 3, 3, 256\n",
    "\n",
    "    # CONV 6 & POOL 6\n",
    "    md.add(Conv2D(filters=512, kernel_size=(3, 3), strides=1, padding='valid',\n",
    "                  activation='relu',\n",
    "                  name='CONV_6'))  # 1, 1, 512\n",
    "    md.add(MaxPooling2D(pool_size=2, strides=2,\n",
    "                        name='POOL_6'))  # -> 3, 3, 256\n",
    "\n",
    "    # #FLATTEN\n",
    "    # md.add(Flatten())\n",
    "\n",
    "    # #FC 1\n",
    "    # md.add(Dense(units=512, activation='relu',\n",
    "    #              name='FC_1'))\n",
    "    # Global Average Layer\n",
    "    md.add(GlobalAveragePooling2D(name='GAP'))\n",
    "\n",
    "    #SOFT_MAX\n",
    "    md.add(Dense(units=2, activation='softmax',\n",
    "                 name='CL_DET'))\n",
    "\n",
    "    return md\n",
    "\n",
    "\n",
    "model = get_st_mod()\n",
    "model.summary()"
   ],
   "metadata": {
    "collapsed": false,
    "pycharm": {
     "name": "#%%\n"
    }
   }
  },
  {
   "cell_type": "code",
   "execution_count": 3,
   "outputs": [],
   "source": [
    "num_classes = 2\n",
    "\n",
    "\n",
    "def load_data():\n",
    "    x_data = []\n",
    "    y_data = []\n",
    "\n",
    "    source_file='micc_f220_classes.txt'\n",
    "    source_dir='MICC-F220'\n",
    "\n",
    "    with open(source_dir + '/' + source_file) as file_with_names:\n",
    "        list_imgs = file_with_names.readlines()\n",
    "    file_with_names.close()\n",
    "\n",
    "    list_img_name_class = []\n",
    "    for line in list_imgs:\n",
    "        line = line[:-1]\n",
    "        list_img_name_class.append((line.split('\\t')[0], int(line.split('\\t')[1])))\n",
    "\n",
    "    for rec in list_img_name_class:\n",
    "        x_data.append(cv2.imread(source_dir + '/resized/' + rec[0]))\n",
    "        y_data.append(rec[1])\n",
    "\n",
    "    source_file='micc_f600_classes.txt'\n",
    "    source_dir='MICC-F600'\n",
    "\n",
    "    with open(source_dir + '/' + source_file) as file_with_names:\n",
    "        list_imgs = file_with_names.readlines()\n",
    "    file_with_names.close()\n",
    "\n",
    "    list_img_name_class = []\n",
    "    for line in list_imgs:\n",
    "        line = line[:-1]\n",
    "        list_img_name_class.append((line.split('\\t')[0], int(line.split('\\t')[1])))\n",
    "\n",
    "    for rec in list_img_name_class:\n",
    "        x_data.append(cv2.imread(source_dir + '/resized/' + rec[0]))\n",
    "        y_data.append(rec[1])\n",
    "\n",
    "    source_file='micc_f2000_classes.txt'\n",
    "    source_dir='MICC-F2000'\n",
    "\n",
    "    with open(source_dir + '/' + source_file) as file_with_names:\n",
    "        list_imgs = file_with_names.readlines()\n",
    "    file_with_names.close()\n",
    "\n",
    "    list_img_name_class = []\n",
    "    for line in list_imgs:\n",
    "        line = line[:-1]\n",
    "        list_img_name_class.append((line.split('\\t')[0], int(line.split('\\t')[1])))\n",
    "\n",
    "    for rec in list_img_name_class:\n",
    "        x_data.append(cv2.imread(source_dir + '/resized/' + rec[0]))\n",
    "        y_data.append(rec[1])\n",
    "\n",
    "    x_data = np.array(x_data)\n",
    "    y_data = np_utils.to_categorical(y_data, num_classes)\n",
    "    return x_data, y_data"
   ],
   "metadata": {
    "collapsed": false,
    "pycharm": {
     "name": "#%%\n"
    }
   }
  },
  {
   "cell_type": "code",
   "execution_count": 4,
   "outputs": [],
   "source": [
    "xx, yy = load_data()\n",
    "\n",
    "xx = xx / 255.0"
   ],
   "metadata": {
    "collapsed": false,
    "pycharm": {
     "name": "#%%\n"
    }
   }
  },
  {
   "cell_type": "code",
   "execution_count": 5,
   "outputs": [
    {
     "name": "stdout",
     "output_type": "stream",
     "text": [
      "(2820, 224, 224, 3)\n",
      "(2820, 2)\n"
     ]
    }
   ],
   "source": [
    "print(xx.shape)\n",
    "print(yy.shape)"
   ],
   "metadata": {
    "collapsed": false,
    "pycharm": {
     "name": "#%%\n"
    }
   }
  },
  {
   "cell_type": "code",
   "execution_count": 6,
   "outputs": [],
   "source": [
    "train_size = 0.9\n",
    "test_size = 0.1\n",
    "\n",
    "x_train, x_test, y_train, y_test = train_test_split(xx, yy, test_size=test_size, random_state=13)"
   ],
   "metadata": {
    "collapsed": false,
    "pycharm": {
     "name": "#%%\n"
    }
   }
  },
  {
   "cell_type": "code",
   "execution_count": 7,
   "outputs": [],
   "source": [
    "model.compile(loss='categorical_crossentropy',\n",
    "              optimizer='adamax',\n",
    "              metrics=['accuracy'])"
   ],
   "metadata": {
    "collapsed": false,
    "pycharm": {
     "name": "#%%\n"
    }
   }
  },
  {
   "cell_type": "code",
   "execution_count": 8,
   "outputs": [
    {
     "name": "stdout",
     "output_type": "stream",
     "text": [
      "Epoch 1/50\n",
      "40/40 - 10s - loss: 0.6611 - accuracy: 0.6351 - val_loss: 0.6406 - val_accuracy: 0.6596\n",
      "Epoch 2/50\n",
      "40/40 - 5s - loss: 0.6389 - accuracy: 0.6556 - val_loss: 0.6323 - val_accuracy: 0.6596\n",
      "Epoch 3/50\n",
      "40/40 - 5s - loss: 0.6206 - accuracy: 0.6556 - val_loss: 0.6527 - val_accuracy: 0.6596\n",
      "Epoch 4/50\n",
      "40/40 - 5s - loss: 0.5930 - accuracy: 0.6663 - val_loss: 0.5888 - val_accuracy: 0.6879\n",
      "Epoch 5/50\n",
      "40/40 - 5s - loss: 0.5572 - accuracy: 0.6986 - val_loss: 0.5415 - val_accuracy: 0.7305\n",
      "Epoch 6/50\n",
      "40/40 - 5s - loss: 0.5063 - accuracy: 0.7541 - val_loss: 0.5398 - val_accuracy: 0.7199\n",
      "Epoch 7/50\n",
      "40/40 - 5s - loss: 0.4538 - accuracy: 0.7833 - val_loss: 0.4691 - val_accuracy: 0.7518\n",
      "Epoch 8/50\n",
      "40/40 - 5s - loss: 0.3936 - accuracy: 0.8270 - val_loss: 0.3973 - val_accuracy: 0.8085\n",
      "Epoch 9/50\n",
      "40/40 - 5s - loss: 0.3261 - accuracy: 0.8629 - val_loss: 0.3557 - val_accuracy: 0.8688\n",
      "Epoch 10/50\n",
      "40/40 - 5s - loss: 0.2919 - accuracy: 0.8869 - val_loss: 0.3377 - val_accuracy: 0.8688\n",
      "Epoch 11/50\n",
      "40/40 - 5s - loss: 0.2537 - accuracy: 0.9054 - val_loss: 0.3624 - val_accuracy: 0.8546\n",
      "Epoch 12/50\n",
      "40/40 - 5s - loss: 0.2341 - accuracy: 0.9204 - val_loss: 0.2708 - val_accuracy: 0.9184\n",
      "Epoch 13/50\n",
      "40/40 - 5s - loss: 0.2095 - accuracy: 0.9299 - val_loss: 0.2993 - val_accuracy: 0.8652\n",
      "Epoch 14/50\n",
      "40/40 - 5s - loss: 0.2082 - accuracy: 0.9259 - val_loss: 0.3248 - val_accuracy: 0.8972\n",
      "Epoch 15/50\n",
      "40/40 - 5s - loss: 0.2188 - accuracy: 0.9212 - val_loss: 0.4081 - val_accuracy: 0.8156\n",
      "Epoch 16/50\n",
      "40/40 - 5s - loss: 0.2051 - accuracy: 0.9310 - val_loss: 0.2722 - val_accuracy: 0.9149\n",
      "Epoch 17/50\n",
      "40/40 - 5s - loss: 0.1697 - accuracy: 0.9480 - val_loss: 0.3422 - val_accuracy: 0.8936\n",
      "Epoch 18/50\n",
      "40/40 - 5s - loss: 0.1743 - accuracy: 0.9401 - val_loss: 0.2763 - val_accuracy: 0.8901\n",
      "Epoch 19/50\n",
      "40/40 - 5s - loss: 0.1745 - accuracy: 0.9441 - val_loss: 0.2620 - val_accuracy: 0.9220\n",
      "Epoch 20/50\n",
      "40/40 - 5s - loss: 0.1581 - accuracy: 0.9511 - val_loss: 0.2269 - val_accuracy: 0.9291\n",
      "Epoch 21/50\n",
      "40/40 - 5s - loss: 0.1523 - accuracy: 0.9496 - val_loss: 0.2668 - val_accuracy: 0.9220\n",
      "Epoch 22/50\n",
      "40/40 - 5s - loss: 0.1576 - accuracy: 0.9452 - val_loss: 0.2410 - val_accuracy: 0.9326\n",
      "Epoch 23/50\n",
      "40/40 - 5s - loss: 0.1467 - accuracy: 0.9527 - val_loss: 0.2340 - val_accuracy: 0.9362\n",
      "Epoch 24/50\n",
      "40/40 - 5s - loss: 0.1437 - accuracy: 0.9543 - val_loss: 0.2673 - val_accuracy: 0.9007\n",
      "Epoch 25/50\n",
      "40/40 - 5s - loss: 0.1449 - accuracy: 0.9567 - val_loss: 0.2290 - val_accuracy: 0.9255\n",
      "Epoch 26/50\n",
      "40/40 - 5s - loss: 0.1423 - accuracy: 0.9547 - val_loss: 0.2470 - val_accuracy: 0.9184\n",
      "Epoch 27/50\n",
      "40/40 - 5s - loss: 0.1334 - accuracy: 0.9590 - val_loss: 0.2242 - val_accuracy: 0.9255\n",
      "Epoch 28/50\n",
      "40/40 - 5s - loss: 0.1340 - accuracy: 0.9590 - val_loss: 0.2657 - val_accuracy: 0.9326\n",
      "Epoch 29/50\n",
      "40/40 - 5s - loss: 0.1456 - accuracy: 0.9563 - val_loss: 0.2494 - val_accuracy: 0.9326\n",
      "Epoch 30/50\n",
      "40/40 - 5s - loss: 0.1336 - accuracy: 0.9586 - val_loss: 0.2277 - val_accuracy: 0.9397\n",
      "Epoch 31/50\n",
      "40/40 - 5s - loss: 0.1407 - accuracy: 0.9567 - val_loss: 0.2284 - val_accuracy: 0.9326\n",
      "Epoch 32/50\n",
      "40/40 - 5s - loss: 0.1448 - accuracy: 0.9563 - val_loss: 0.2505 - val_accuracy: 0.9291\n",
      "Epoch 33/50\n",
      "40/40 - 5s - loss: 0.1336 - accuracy: 0.9578 - val_loss: 0.2712 - val_accuracy: 0.9255\n",
      "Epoch 34/50\n",
      "40/40 - 5s - loss: 0.1405 - accuracy: 0.9578 - val_loss: 0.2310 - val_accuracy: 0.9255\n",
      "Epoch 35/50\n",
      "40/40 - 5s - loss: 0.1280 - accuracy: 0.9590 - val_loss: 0.2019 - val_accuracy: 0.9433\n",
      "Epoch 36/50\n",
      "40/40 - 5s - loss: 0.1221 - accuracy: 0.9602 - val_loss: 0.2368 - val_accuracy: 0.9291\n",
      "Epoch 37/50\n",
      "40/40 - 5s - loss: 0.1183 - accuracy: 0.9638 - val_loss: 0.2421 - val_accuracy: 0.9397\n",
      "Epoch 38/50\n",
      "40/40 - 5s - loss: 0.1252 - accuracy: 0.9602 - val_loss: 0.2270 - val_accuracy: 0.9149\n",
      "Epoch 39/50\n",
      "40/40 - 5s - loss: 0.1244 - accuracy: 0.9606 - val_loss: 0.2403 - val_accuracy: 0.9078\n",
      "Epoch 40/50\n",
      "40/40 - 5s - loss: 0.1282 - accuracy: 0.9630 - val_loss: 0.2273 - val_accuracy: 0.9397\n",
      "Epoch 41/50\n",
      "40/40 - 5s - loss: 0.1133 - accuracy: 0.9653 - val_loss: 0.2647 - val_accuracy: 0.9291\n",
      "Epoch 42/50\n",
      "40/40 - 5s - loss: 0.1197 - accuracy: 0.9614 - val_loss: 0.2277 - val_accuracy: 0.9433\n",
      "Epoch 43/50\n",
      "40/40 - 5s - loss: 0.1155 - accuracy: 0.9665 - val_loss: 0.2420 - val_accuracy: 0.9184\n",
      "Epoch 44/50\n",
      "40/40 - 5s - loss: 0.1119 - accuracy: 0.9661 - val_loss: 0.2564 - val_accuracy: 0.9433\n",
      "Epoch 45/50\n",
      "40/40 - 5s - loss: 0.1122 - accuracy: 0.9638 - val_loss: 0.2257 - val_accuracy: 0.9362\n",
      "Epoch 46/50\n",
      "40/40 - 5s - loss: 0.1176 - accuracy: 0.9661 - val_loss: 0.2404 - val_accuracy: 0.9468\n",
      "Epoch 47/50\n",
      "40/40 - 5s - loss: 0.1065 - accuracy: 0.9653 - val_loss: 0.2373 - val_accuracy: 0.9326\n",
      "Epoch 48/50\n",
      "40/40 - 5s - loss: 0.1105 - accuracy: 0.9645 - val_loss: 0.2322 - val_accuracy: 0.9433\n",
      "Epoch 49/50\n",
      "40/40 - 5s - loss: 0.1099 - accuracy: 0.9685 - val_loss: 0.2223 - val_accuracy: 0.9220\n",
      "Epoch 50/50\n",
      "40/40 - 5s - loss: 0.1058 - accuracy: 0.9689 - val_loss: 0.2214 - val_accuracy: 0.9397\n"
     ]
    }
   ],
   "source": [
    "batch_size = 64\n",
    "epochs = 50\n",
    "model_file_path = 'MICC-F2000/test_6_micc_f220_f600_f2000.hdf5'\n",
    "\n",
    "checkpointer = ModelCheckpoint(filepath=model_file_path, verpose=1,\n",
    "                               save_best_only=True)\n",
    "\n",
    "history = model.fit(x_train, y_train, batch_size=batch_size, epochs=epochs,\n",
    "                    validation_data=(x_test, y_test),\n",
    "                    verbose=2, shuffle=True,\n",
    "                    callbacks=[checkpointer])"
   ],
   "metadata": {
    "collapsed": false,
    "pycharm": {
     "name": "#%%\n"
    }
   }
  },
  {
   "cell_type": "code",
   "execution_count": 9,
   "outputs": [
    {
     "name": "stdout",
     "output_type": "stream",
     "text": [
      "3/3 [==============================] - 1s 54ms/step - loss: 0.2214 - accuracy: 0.9397\n",
      "Test result: 93.972 loss: 0.221\n"
     ]
    }
   ],
   "source": [
    "scores = model.evaluate(x_test, y_test, batch_size=128, verbose=1)\n",
    "print('Test result: %.3f loss: %.3f' % (scores[1] * 100, scores [0]))"
   ],
   "metadata": {
    "collapsed": false,
    "pycharm": {
     "name": "#%%\n"
    }
   }
  },
  {
   "cell_type": "code",
   "execution_count": 10,
   "outputs": [
    {
     "data": {
      "text/plain": "<Figure size 432x288 with 1 Axes>",
      "image/png": "[encoded data removed]"
     },
     "metadata": {
      "needs_background": "light"
     },
     "output_type": "display_data"
    }
   ],
   "source": [
    "plt.plot(history.history['accuracy'], label='train acc')\n",
    "plt.plot(history.history['val_accuracy'], label='val acc')\n",
    "plt.legend()\n",
    "plt.show()"
   ],
   "metadata": {
    "collapsed": false,
    "pycharm": {
     "name": "#%%\n"
    }
   }
  },
  {
   "cell_type": "code",
   "execution_count": 11,
   "outputs": [
    {
     "data": {
      "text/plain": "<Figure size 432x288 with 1 Axes>",
      "image/png": "[encoded data removed]"
     },
     "metadata": {
      "needs_background": "light"
     },
     "output_type": "display_data"
    }
   ],
   "source": [
    "plt.plot(history.history['loss'], label='train loss')\n",
    "plt.plot(history.history['val_loss'], label='val loss')\n",
    "plt.legend()\n",
    "plt.show()"
   ],
   "metadata": {
    "collapsed": false,
    "pycharm": {
     "name": "#%%\n"
    }
   }
  },
  {
   "cell_type": "code",
   "execution_count": 12,
   "outputs": [
    {
     "name": "stdout",
     "output_type": "stream",
     "text": [
      "tf.Tensor(\n",
      "[[174  12]\n",
      " [  5  91]], shape=(2, 2), dtype=int32)\n"
     ]
    }
   ],
   "source": [
    "y_test_pred = model.predict(x_test)\n",
    "confusion_matrix = tf.math.confusion_matrix(y_test.argmax(axis=1), y_test_pred.argmax(axis=1))\n",
    "print(confusion_matrix)"
   ],
   "metadata": {
    "collapsed": false,
    "pycharm": {
     "name": "#%%\n"
    }
   }
  },
  {
   "cell_type": "code",
   "execution_count": null,
   "outputs": [],
   "source": [
    "print(y_test)"
   ],
   "metadata": {
    "collapsed": false,
    "pycharm": {
     "name": "#%%\n"
    }
   }
  },
  {
   "cell_type": "code",
   "execution_count": 13,
   "outputs": [
    {
     "data": {
      "text/plain": "<Figure size 432x288 with 1 Axes>",
      "image/png": "[encoded data removed]"
     },
     "metadata": {
      "needs_background": "light"
     },
     "output_type": "display_data"
    }
   ],
   "source": [
    "fpr_m, tpr_m, thresholds_m = roc_curve(y_test.argmax(axis=1), y_test_pred.argmax(axis=1))\n",
    "\n",
    "def plot_roc_curve(fpr, tpr):\n",
    "    plt.plot(fpr,tpr)\n",
    "    plt.axis([0,1,0,1])\n",
    "    plt.xlabel('False Positive Rate')\n",
    "    plt.ylabel('True Positive Rate')\n",
    "    plt.show()\n",
    "\n",
    "plot_roc_curve (fpr_m, tpr_m)"
   ],
   "metadata": {
    "collapsed": false,
    "pycharm": {
     "name": "#%%\n"
    }
   }
  },
  {
   "cell_type": "code",
   "execution_count": 15,
   "outputs": [],
   "source": [
    "def load_data_o(source_file='micc_f220_classes.txt', source_dir='MICC-F220'):\n",
    "    with open(source_dir + '/' + source_file) as file_with_names:\n",
    "        list_imgs = file_with_names.readlines()\n",
    "    file_with_names.close()\n",
    "\n",
    "    list_img_name_class = []\n",
    "    for line in list_imgs:\n",
    "        line = line[:-1]\n",
    "        list_img_name_class.append((line.split('\\t')[0], int(line.split('\\t')[1])))\n",
    "\n",
    "    x_data = []\n",
    "    y_data = []\n",
    "    for rec in list_img_name_class:\n",
    "        x_data.append(cv2.imread(source_dir + '/resized/' + rec[0]))\n",
    "        y_data.append(rec[1])\n",
    "\n",
    "    x_data = np.array(x_data)\n",
    "    y_data = np_utils.to_categorical(y_data, num_classes)\n",
    "    return x_data, y_data"
   ],
   "metadata": {
    "collapsed": false,
    "pycharm": {
     "name": "#%%\n"
    }
   }
  },
  {
   "cell_type": "code",
   "execution_count": 16,
   "outputs": [
    {
     "name": "stdout",
     "output_type": "stream",
     "text": [
      "1/1 [==============================] - 0s 192ms/step - loss: 7.1685 - accuracy: 0.2500\n",
      "Test result: 25.000 loss: 7.169\n",
      "tf.Tensor(\n",
      "[[0 0]\n",
      " [6 2]], shape=(2, 2), dtype=int32)\n"
     ]
    }
   ],
   "source": [
    "xx_f8, yy_f8 = load_data_o(source_file='micc_f8_names.txt', source_dir='MICC-F8multi')\n",
    "xx_f8 = xx_f8 / 255.0\n",
    "\n",
    "scores = model.evaluate(xx_f8, yy_f8, batch_size=128, verbose=1)\n",
    "print('Test result: %.3f loss: %.3f' % (scores[1] * 100, scores [0]))\n",
    "\n",
    "yy_f8_pred = model.predict(xx_f8)\n",
    "confusion_matrix = tf.math.confusion_matrix(yy_f8.argmax(axis=1), yy_f8_pred.argmax(axis=1))\n",
    "print(confusion_matrix)"
   ],
   "metadata": {
    "collapsed": false,
    "pycharm": {
     "name": "#%%\n"
    }
   }
  },
  {
   "cell_type": "code",
   "execution_count": 18,
   "outputs": [
    {
     "name": "stdout",
     "output_type": "stream",
     "text": [
      "1/1 [==============================] - 0s 29ms/step - loss: 2.6099 - accuracy: 0.5000\n",
      "Test result: 50.000 loss: 2.610\n",
      "tf.Tensor(\n",
      "[[4 0]\n",
      " [4 0]], shape=(2, 2), dtype=int32)\n"
     ]
    }
   ],
   "source": [
    "xx_our, yy_our = load_data_o(source_file='our_test_classes.txt', source_dir='Our_test')\n",
    "xx_our = xx_our / 255.0\n",
    "\n",
    "scores = model.evaluate(xx_our, yy_our, batch_size=128, verbose=1)\n",
    "print('Test result: %.3f loss: %.3f' % (scores[1] * 100, scores[0]))\n",
    "\n",
    "yy_our_pred = model.predict(xx_our)\n",
    "confusion_matrix = tf.math.confusion_matrix(yy_our.argmax(axis=1), yy_our_pred.argmax(axis=1))\n",
    "print(confusion_matrix)"
   ],
   "metadata": {
    "collapsed": false,
    "pycharm": {
     "name": "#%%\n"
    }
   }
  },
  {
   "cell_type": "code",
   "execution_count": null,
   "outputs": [],
   "source": [],
   "metadata": {
    "collapsed": false,
    "pycharm": {
     "name": "#%%\n"
    }
   }
  }
 ],
 "metadata": {
  "kernelspec": {
   "display_name": "Python 3",
   "language": "python",
   "name": "python3"
  },
  "language_info": {
   "codemirror_mode": {
    "name": "ipython",
    "version": 2
   },
   "file_extension": ".py",
   "mimetype": "text/x-python",
   "name": "python",
   "nbconvert_exporter": "python",
   "pygments_lexer": "ipython2",
   "version": "2.7.6"
  }
 },
 "nbformat": 4,
 "nbformat_minor": 0
}