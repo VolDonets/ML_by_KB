{
 "cells": [
  {
   "cell_type": "code",
   "execution_count": 1,
   "outputs": [],
   "source": [
    "import keras\n",
    "\n",
    "from keras.preprocessing.image import ImageDataGenerator\n",
    "from keras.models import Sequential\n",
    "from keras.utils import np_utils\n",
    "from keras.layers import Dense, Activation, Flatten, Dropout, Conv2D, MaxPooling2D, BatchNormalization, \\\n",
    "    AveragePooling2D, GlobalAveragePooling2D\n",
    "from keras.callbacks import ModelCheckpoint\n",
    "from keras import regularizers, optimizers\n",
    "\n",
    "import numpy as np\n",
    "from matplotlib import pyplot\n",
    "\n",
    "import cv2\n",
    "from sklearn.metrics import roc_curve, roc_auc_score\n",
    "from sklearn.model_selection import train_test_split\n",
    "from keras.callbacks import ModelCheckpoint\n",
    "import matplotlib.pyplot as plt\n",
    "import tensorflow as tf"
   ],
   "metadata": {
    "collapsed": false,
    "pycharm": {
     "name": "#%%\n"
    }
   }
  },
  {
   "cell_type": "code",
   "execution_count": 2,
   "outputs": [
    {
     "name": "stdout",
     "output_type": "stream",
     "text": [
      "Model: \"sequential\"\n",
      "_________________________________________________________________\n",
      "Layer (type)                 Output Shape              Param #   \n",
      "=================================================================\n",
      "CONV_1 (Conv2D)              (None, 224, 224, 16)      448       \n",
      "_________________________________________________________________\n",
      "POOL_1 (MaxPooling2D)        (None, 112, 112, 16)      0         \n",
      "_________________________________________________________________\n",
      "CONV_2 (Conv2D)              (None, 110, 110, 32)      4640      \n",
      "_________________________________________________________________\n",
      "POOL_2 (MaxPooling2D)        (None, 55, 55, 32)        0         \n",
      "_________________________________________________________________\n",
      "CONV_3 (Conv2D)              (None, 53, 53, 64)        18496     \n",
      "_________________________________________________________________\n",
      "POOL_3 (MaxPooling2D)        (None, 26, 26, 64)        0         \n",
      "_________________________________________________________________\n",
      "CONV_4 (Conv2D)              (None, 24, 24, 128)       73856     \n",
      "_________________________________________________________________\n",
      "POOL_4 (MaxPooling2D)        (None, 12, 12, 128)       0         \n",
      "_________________________________________________________________\n",
      "CONV_5 (Conv2D)              (None, 10, 10, 256)       295168    \n",
      "_________________________________________________________________\n",
      "POOL_5 (MaxPooling2D)        (None, 5, 5, 256)         0         \n",
      "_________________________________________________________________\n",
      "CONV_6 (Conv2D)              (None, 3, 3, 512)         1180160   \n",
      "_________________________________________________________________\n",
      "POOL_6 (MaxPooling2D)        (None, 1, 1, 512)         0         \n",
      "_________________________________________________________________\n",
      "GAP (GlobalAveragePooling2D) (None, 512)               0         \n",
      "_________________________________________________________________\n",
      "CL_DET (Dense)               (None, 2)                 1026      \n",
      "=================================================================\n",
      "Total params: 1,573,794\n",
      "Trainable params: 1,573,794\n",
      "Non-trainable params: 0\n",
      "_________________________________________________________________\n"
     ]
    }
   ],
   "source": [
    "def get_st_mod():\n",
    "    md = Sequential()\n",
    "\n",
    "    # CONV 1 & POOL 1\n",
    "    md.add(Conv2D(filters=16, kernel_size=(3, 3), strides=1, padding='same',\n",
    "                  activation='relu',\n",
    "                  input_shape=(224, 224, 3),\n",
    "                  name='CONV_1'))  # -> 224, 224, 16\n",
    "    md.add(MaxPooling2D(pool_size=2, strides=2,\n",
    "                        name='POOL_1'))  # -> 112, 112, 16\n",
    "\n",
    "    # CONV 2 & POOL 2\n",
    "    md.add(Conv2D(filters=32, kernel_size=(3, 3), strides=1, padding='valid',\n",
    "                  activation='relu',\n",
    "                  name='CONV_2'))  # -> 110, 110, 32\n",
    "    md.add(MaxPooling2D(pool_size=2, strides=2,\n",
    "                        name='POOL_2'))  # -> 55, 55, 32\n",
    "\n",
    "    # CONV 3 & POOL 3\n",
    "    md.add(Conv2D(filters=64, kernel_size=(3, 3), strides=1, padding='valid',\n",
    "                  activation='relu',\n",
    "                  name='CONV_3'))  # -> 53, 53, 64\n",
    "    md.add(MaxPooling2D(pool_size=2, strides=2,\n",
    "                        name='POOL_3'))  # -> 26, 26, 64\n",
    "\n",
    "    # CONV 4 & POOL 4\n",
    "    md.add(Conv2D(filters=128, kernel_size=(3, 3), strides=1, padding='valid',\n",
    "                  activation='relu',\n",
    "                  name='CONV_4'))  # -> 24, 24, 128\n",
    "    md.add(MaxPooling2D(pool_size=2, strides=2,\n",
    "                        name='POOL_4'))  # -> 12, 12, 128\n",
    "\n",
    "    # CONV 5 & POOL 5\n",
    "    md.add(Conv2D(filters=256, kernel_size=(3, 3), strides=1, padding='valid',\n",
    "                  activation='relu',\n",
    "                  name='CONV_5'))  # -> 5, 5, 256\n",
    "    md.add(MaxPooling2D(pool_size=2, strides=2,\n",
    "                        name='POOL_5'))  # -> 3, 3, 256\n",
    "\n",
    "    # CONV 6 & POOL 6\n",
    "    md.add(Conv2D(filters=512, kernel_size=(3, 3), strides=1, padding='valid',\n",
    "                  activation='relu',\n",
    "                  name='CONV_6'))  # 1, 1, 512\n",
    "    md.add(MaxPooling2D(pool_size=2, strides=2,\n",
    "                        name='POOL_6'))  # -> 3, 3, 256\n",
    "\n",
    "    # #FLATTEN\n",
    "    # md.add(Flatten())\n",
    "\n",
    "    # #FC 1\n",
    "    # md.add(Dense(units=512, activation='relu',\n",
    "    #              name='FC_1'))\n",
    "    # Global Average Layer\n",
    "    md.add(GlobalAveragePooling2D(name='GAP'))\n",
    "\n",
    "    #SOFT_MAX\n",
    "    md.add(Dense(units=2, activation='softmax',\n",
    "                 name='CL_DET'))\n",
    "\n",
    "    return md\n",
    "\n",
    "\n",
    "model = get_st_mod()\n",
    "model.summary()"
   ],
   "metadata": {
    "collapsed": false,
    "pycharm": {
     "name": "#%%\n"
    }
   }
  },
  {
   "cell_type": "code",
   "execution_count": 3,
   "outputs": [],
   "source": [
    "num_classes = 2\n",
    "\n",
    "\n",
    "def load_data(source_file='micc_f220_classes.txt', source_dir='MICC-F220'):\n",
    "    with open(source_dir + '/' + source_file) as file_with_names:\n",
    "        list_imgs = file_with_names.readlines()\n",
    "    file_with_names.close()\n",
    "\n",
    "    list_img_name_class = []\n",
    "    for line in list_imgs:\n",
    "        line = line[:-1]\n",
    "        list_img_name_class.append((line.split('\\t')[0], int(line.split('\\t')[1])))\n",
    "\n",
    "    x_data = []\n",
    "    y_data = []\n",
    "    for rec in list_img_name_class:\n",
    "        x_data.append(cv2.imread(source_dir + '/resized/' + rec[0]))\n",
    "        y_data.append(rec[1])\n",
    "\n",
    "    x_data = np.array(x_data)\n",
    "    y_data = np_utils.to_categorical(y_data, num_classes)\n",
    "    return x_data, y_data"
   ],
   "metadata": {
    "collapsed": false,
    "pycharm": {
     "name": "#%%\n"
    }
   }
  },
  {
   "cell_type": "code",
   "execution_count": 4,
   "outputs": [],
   "source": [
    "xx, yy = load_data(source_file='micc_f600_classes.txt', source_dir='MICC-F600')"
   ],
   "metadata": {
    "collapsed": false,
    "pycharm": {
     "name": "#%%\n"
    }
   }
  },
  {
   "cell_type": "code",
   "execution_count": 5,
   "outputs": [
    {
     "name": "stdout",
     "output_type": "stream",
     "text": [
      "600\n",
      "[[1. 0.]\n",
      " [0. 1.]\n",
      " [0. 1.]\n",
      " ...\n",
      " [1. 0.]\n",
      " [1. 0.]\n",
      " [0. 1.]]\n"
     ]
    }
   ],
   "source": [
    "print(len(xx))\n",
    "print(yy)"
   ],
   "metadata": {
    "collapsed": false,
    "pycharm": {
     "name": "#%%\n"
    }
   }
  },
  {
   "cell_type": "code",
   "execution_count": 6,
   "outputs": [],
   "source": [
    "xx = xx / 255.0"
   ],
   "metadata": {
    "collapsed": false,
    "pycharm": {
     "name": "#%%\n"
    }
   }
  },
  {
   "cell_type": "code",
   "execution_count": 7,
   "outputs": [],
   "source": [
    "train_size = 0.9\n",
    "test_size = 0.1\n",
    "\n",
    "x_train, x_test, y_train, y_test = train_test_split(xx, yy, test_size=test_size, random_state=13)"
   ],
   "metadata": {
    "collapsed": false,
    "pycharm": {
     "name": "#%%\n"
    }
   }
  },
  {
   "cell_type": "code",
   "execution_count": 9,
   "outputs": [],
   "source": [
    "model.compile(loss='categorical_crossentropy',\n",
    "              optimizer='adamax',\n",
    "              metrics=['accuracy'])"
   ],
   "metadata": {
    "collapsed": false,
    "pycharm": {
     "name": "#%%\n"
    }
   }
  },
  {
   "cell_type": "code",
   "execution_count": 10,
   "outputs": [
    {
     "name": "stdout",
     "output_type": "stream",
     "text": [
      "Epoch 1/75\n",
      "9/9 - 5s - loss: 0.6050 - accuracy: 0.7296 - val_loss: 0.5446 - val_accuracy: 0.7667\n",
      "Epoch 2/75\n",
      "9/9 - 1s - loss: 0.5591 - accuracy: 0.7296 - val_loss: 0.5390 - val_accuracy: 0.7667\n",
      "Epoch 3/75\n",
      "9/9 - 1s - loss: 0.5477 - accuracy: 0.7296 - val_loss: 0.5491 - val_accuracy: 0.7667\n",
      "Epoch 4/75\n",
      "9/9 - 1s - loss: 0.5343 - accuracy: 0.7296 - val_loss: 0.5834 - val_accuracy: 0.7667\n",
      "Epoch 5/75\n",
      "9/9 - 1s - loss: 0.5699 - accuracy: 0.7389 - val_loss: 0.5882 - val_accuracy: 0.7333\n",
      "Epoch 6/75\n",
      "9/9 - 1s - loss: 0.5504 - accuracy: 0.7463 - val_loss: 0.5287 - val_accuracy: 0.7667\n",
      "Epoch 7/75\n",
      "9/9 - 1s - loss: 0.5414 - accuracy: 0.7333 - val_loss: 0.5322 - val_accuracy: 0.7333\n",
      "Epoch 8/75\n",
      "9/9 - 1s - loss: 0.5143 - accuracy: 0.7500 - val_loss: 0.5205 - val_accuracy: 0.7333\n",
      "Epoch 9/75\n",
      "9/9 - 1s - loss: 0.4869 - accuracy: 0.7426 - val_loss: 0.4916 - val_accuracy: 0.7333\n",
      "Epoch 10/75\n",
      "9/9 - 1s - loss: 0.4620 - accuracy: 0.7519 - val_loss: 0.5316 - val_accuracy: 0.7167\n",
      "Epoch 11/75\n",
      "9/9 - 1s - loss: 0.4634 - accuracy: 0.7611 - val_loss: 0.4830 - val_accuracy: 0.7667\n",
      "Epoch 12/75\n",
      "9/9 - 1s - loss: 0.4388 - accuracy: 0.7815 - val_loss: 0.4583 - val_accuracy: 0.7167\n",
      "Epoch 13/75\n",
      "9/9 - 1s - loss: 0.4165 - accuracy: 0.7963 - val_loss: 0.4626 - val_accuracy: 0.7333\n",
      "Epoch 14/75\n",
      "9/9 - 1s - loss: 0.4016 - accuracy: 0.7833 - val_loss: 0.4807 - val_accuracy: 0.7167\n",
      "Epoch 15/75\n",
      "9/9 - 1s - loss: 0.3898 - accuracy: 0.8185 - val_loss: 0.4085 - val_accuracy: 0.7667\n",
      "Epoch 16/75\n",
      "9/9 - 1s - loss: 0.3709 - accuracy: 0.8111 - val_loss: 0.4068 - val_accuracy: 0.7167\n",
      "Epoch 17/75\n",
      "9/9 - 1s - loss: 0.3674 - accuracy: 0.8056 - val_loss: 0.4016 - val_accuracy: 0.7667\n",
      "Epoch 18/75\n",
      "9/9 - 1s - loss: 0.3547 - accuracy: 0.8185 - val_loss: 0.3532 - val_accuracy: 0.7833\n",
      "Epoch 19/75\n",
      "9/9 - 1s - loss: 0.3525 - accuracy: 0.8352 - val_loss: 0.4180 - val_accuracy: 0.7333\n",
      "Epoch 20/75\n",
      "9/9 - 1s - loss: 0.3343 - accuracy: 0.8389 - val_loss: 0.3950 - val_accuracy: 0.7500\n",
      "Epoch 21/75\n",
      "9/9 - 1s - loss: 0.3106 - accuracy: 0.8519 - val_loss: 0.3466 - val_accuracy: 0.7833\n",
      "Epoch 22/75\n",
      "9/9 - 1s - loss: 0.2886 - accuracy: 0.8630 - val_loss: 0.3542 - val_accuracy: 0.7500\n",
      "Epoch 23/75\n",
      "9/9 - 1s - loss: 0.2688 - accuracy: 0.8630 - val_loss: 0.3607 - val_accuracy: 0.7500\n",
      "Epoch 24/75\n",
      "9/9 - 1s - loss: 0.2727 - accuracy: 0.8630 - val_loss: 0.3074 - val_accuracy: 0.8500\n",
      "Epoch 25/75\n",
      "9/9 - 1s - loss: 0.2375 - accuracy: 0.8981 - val_loss: 0.3266 - val_accuracy: 0.8167\n",
      "Epoch 26/75\n",
      "9/9 - 1s - loss: 0.2374 - accuracy: 0.8889 - val_loss: 0.3375 - val_accuracy: 0.8000\n",
      "Epoch 27/75\n",
      "9/9 - 1s - loss: 0.2394 - accuracy: 0.9000 - val_loss: 0.3603 - val_accuracy: 0.7500\n",
      "Epoch 28/75\n",
      "9/9 - 1s - loss: 0.2546 - accuracy: 0.8741 - val_loss: 0.2830 - val_accuracy: 0.8667\n",
      "Epoch 29/75\n",
      "9/9 - 1s - loss: 0.2446 - accuracy: 0.8944 - val_loss: 0.2935 - val_accuracy: 0.8833\n",
      "Epoch 30/75\n",
      "9/9 - 1s - loss: 0.2022 - accuracy: 0.9296 - val_loss: 0.2878 - val_accuracy: 0.8333\n",
      "Epoch 31/75\n",
      "9/9 - 1s - loss: 0.2091 - accuracy: 0.9148 - val_loss: 0.2423 - val_accuracy: 0.9000\n",
      "Epoch 32/75\n",
      "9/9 - 1s - loss: 0.2334 - accuracy: 0.9111 - val_loss: 0.3709 - val_accuracy: 0.7333\n",
      "Epoch 33/75\n",
      "9/9 - 1s - loss: 0.2313 - accuracy: 0.8815 - val_loss: 0.2383 - val_accuracy: 0.9333\n",
      "Epoch 34/75\n",
      "9/9 - 1s - loss: 0.2075 - accuracy: 0.9259 - val_loss: 0.2636 - val_accuracy: 0.8833\n",
      "Epoch 35/75\n",
      "9/9 - 1s - loss: 0.1963 - accuracy: 0.9259 - val_loss: 0.2630 - val_accuracy: 0.8500\n",
      "Epoch 36/75\n",
      "9/9 - 1s - loss: 0.1919 - accuracy: 0.9259 - val_loss: 0.2245 - val_accuracy: 0.9333\n",
      "Epoch 37/75\n",
      "9/9 - 1s - loss: 0.1761 - accuracy: 0.9352 - val_loss: 0.3662 - val_accuracy: 0.7500\n",
      "Epoch 38/75\n",
      "9/9 - 1s - loss: 0.2124 - accuracy: 0.9093 - val_loss: 0.2264 - val_accuracy: 0.9167\n",
      "Epoch 39/75\n",
      "9/9 - 1s - loss: 0.1774 - accuracy: 0.9352 - val_loss: 0.2180 - val_accuracy: 0.9167\n",
      "Epoch 40/75\n",
      "9/9 - 1s - loss: 0.1667 - accuracy: 0.9463 - val_loss: 0.2436 - val_accuracy: 0.9000\n",
      "Epoch 41/75\n",
      "9/9 - 1s - loss: 0.1728 - accuracy: 0.9407 - val_loss: 0.2434 - val_accuracy: 0.9167\n",
      "Epoch 42/75\n",
      "9/9 - 1s - loss: 0.1768 - accuracy: 0.9407 - val_loss: 0.2281 - val_accuracy: 0.9167\n",
      "Epoch 43/75\n",
      "9/9 - 1s - loss: 0.1618 - accuracy: 0.9407 - val_loss: 0.2952 - val_accuracy: 0.8833\n",
      "Epoch 44/75\n",
      "9/9 - 1s - loss: 0.1743 - accuracy: 0.9352 - val_loss: 0.3179 - val_accuracy: 0.8667\n",
      "Epoch 45/75\n",
      "9/9 - 1s - loss: 0.2076 - accuracy: 0.9093 - val_loss: 0.2077 - val_accuracy: 0.9500\n",
      "Epoch 46/75\n",
      "9/9 - 1s - loss: 0.1679 - accuracy: 0.9444 - val_loss: 0.2072 - val_accuracy: 0.9333\n",
      "Epoch 47/75\n",
      "9/9 - 1s - loss: 0.1441 - accuracy: 0.9519 - val_loss: 0.2063 - val_accuracy: 0.9333\n",
      "Epoch 48/75\n",
      "9/9 - 1s - loss: 0.1423 - accuracy: 0.9444 - val_loss: 0.2039 - val_accuracy: 0.9333\n",
      "Epoch 49/75\n",
      "9/9 - 1s - loss: 0.1371 - accuracy: 0.9519 - val_loss: 0.1967 - val_accuracy: 0.9333\n",
      "Epoch 50/75\n",
      "9/9 - 1s - loss: 0.1972 - accuracy: 0.9204 - val_loss: 0.6096 - val_accuracy: 0.7500\n",
      "Epoch 51/75\n",
      "9/9 - 1s - loss: 0.2088 - accuracy: 0.9056 - val_loss: 0.2055 - val_accuracy: 0.9167\n",
      "Epoch 52/75\n",
      "9/9 - 1s - loss: 0.1893 - accuracy: 0.9222 - val_loss: 0.2457 - val_accuracy: 0.9000\n",
      "Epoch 53/75\n",
      "9/9 - 1s - loss: 0.1749 - accuracy: 0.9278 - val_loss: 0.2937 - val_accuracy: 0.8333\n",
      "Epoch 54/75\n",
      "9/9 - 1s - loss: 0.1773 - accuracy: 0.9278 - val_loss: 0.2356 - val_accuracy: 0.9333\n",
      "Epoch 55/75\n",
      "9/9 - 1s - loss: 0.1599 - accuracy: 0.9463 - val_loss: 0.2350 - val_accuracy: 0.9000\n",
      "Epoch 56/75\n",
      "9/9 - 1s - loss: 0.1415 - accuracy: 0.9556 - val_loss: 0.2371 - val_accuracy: 0.9000\n",
      "Epoch 57/75\n",
      "9/9 - 1s - loss: 0.1374 - accuracy: 0.9500 - val_loss: 0.2640 - val_accuracy: 0.9000\n",
      "Epoch 58/75\n",
      "9/9 - 1s - loss: 0.1413 - accuracy: 0.9519 - val_loss: 0.1947 - val_accuracy: 0.9500\n",
      "Epoch 59/75\n",
      "9/9 - 1s - loss: 0.1273 - accuracy: 0.9556 - val_loss: 0.2044 - val_accuracy: 0.9167\n",
      "Epoch 60/75\n",
      "9/9 - 1s - loss: 0.1283 - accuracy: 0.9556 - val_loss: 0.1889 - val_accuracy: 0.9500\n",
      "Epoch 61/75\n",
      "9/9 - 1s - loss: 0.1277 - accuracy: 0.9519 - val_loss: 0.1991 - val_accuracy: 0.9333\n",
      "Epoch 62/75\n",
      "9/9 - 1s - loss: 0.1224 - accuracy: 0.9593 - val_loss: 0.2037 - val_accuracy: 0.9333\n",
      "Epoch 63/75\n",
      "9/9 - 1s - loss: 0.1521 - accuracy: 0.9426 - val_loss: 0.2580 - val_accuracy: 0.9167\n",
      "Epoch 64/75\n",
      "9/9 - 1s - loss: 0.1368 - accuracy: 0.9574 - val_loss: 0.1881 - val_accuracy: 0.9500\n",
      "Epoch 65/75\n",
      "9/9 - 1s - loss: 0.1418 - accuracy: 0.9481 - val_loss: 0.2289 - val_accuracy: 0.9000\n",
      "Epoch 66/75\n",
      "9/9 - 1s - loss: 0.1300 - accuracy: 0.9556 - val_loss: 0.1716 - val_accuracy: 0.9333\n",
      "Epoch 67/75\n",
      "9/9 - 1s - loss: 0.1168 - accuracy: 0.9574 - val_loss: 0.2085 - val_accuracy: 0.9167\n",
      "Epoch 68/75\n",
      "9/9 - 1s - loss: 0.1204 - accuracy: 0.9537 - val_loss: 0.1817 - val_accuracy: 0.9500\n",
      "Epoch 69/75\n",
      "9/9 - 1s - loss: 0.1082 - accuracy: 0.9648 - val_loss: 0.2195 - val_accuracy: 0.9167\n",
      "Epoch 70/75\n",
      "9/9 - 1s - loss: 0.1076 - accuracy: 0.9630 - val_loss: 0.1792 - val_accuracy: 0.9500\n",
      "Epoch 71/75\n",
      "9/9 - 1s - loss: 0.1111 - accuracy: 0.9630 - val_loss: 0.2145 - val_accuracy: 0.9333\n",
      "Epoch 72/75\n",
      "9/9 - 1s - loss: 0.1282 - accuracy: 0.9537 - val_loss: 0.1931 - val_accuracy: 0.9000\n",
      "Epoch 73/75\n",
      "9/9 - 1s - loss: 0.1319 - accuracy: 0.9426 - val_loss: 0.2953 - val_accuracy: 0.9000\n",
      "Epoch 74/75\n",
      "9/9 - 1s - loss: 0.1259 - accuracy: 0.9519 - val_loss: 0.1861 - val_accuracy: 0.9333\n",
      "Epoch 75/75\n",
      "9/9 - 1s - loss: 0.1052 - accuracy: 0.9630 - val_loss: 0.1895 - val_accuracy: 0.9333\n"
     ]
    }
   ],
   "source": [
    "batch_size = 64\n",
    "epochs = 75\n",
    "model_file_path = 'MICC-F600/test_4_micc_f600.hdf5'\n",
    "\n",
    "checkpointer = ModelCheckpoint(filepath=model_file_path, verpose=1,\n",
    "                               save_best_only=True)\n",
    "\n",
    "history = model.fit(x_train, y_train, batch_size=batch_size, epochs=epochs,\n",
    "                    validation_data=(x_test, y_test),\n",
    "                    verbose=2, shuffle=True,\n",
    "                    callbacks=[checkpointer])"
   ],
   "metadata": {
    "collapsed": false,
    "pycharm": {
     "name": "#%%\n"
    }
   }
  },
  {
   "cell_type": "code",
   "execution_count": 11,
   "outputs": [
    {
     "name": "stdout",
     "output_type": "stream",
     "text": [
      "1/1 [==============================] - 0s 63ms/step - loss: 0.1895 - accuracy: 0.9333\n",
      "Test result: 93.333 loss: 0.189\n"
     ]
    }
   ],
   "source": [
    "scores = model.evaluate(x_test, y_test, batch_size=128, verbose=1)\n",
    "print('Test result: %.3f loss: %.3f' % (scores[1] * 100, scores [0]))"
   ],
   "metadata": {
    "collapsed": false,
    "pycharm": {
     "name": "#%%\n"
    }
   }
  },
  {
   "cell_type": "code",
   "execution_count": 12,
   "outputs": [
    {
     "data": {
      "text/plain": "<Figure size 432x288 with 1 Axes>",
      "image/png": "[encoded data removed]"
     },
     "metadata": {
      "needs_background": "light"
     },
     "output_type": "display_data"
    }
   ],
   "source": [
    "plt.plot(history.history['accuracy'], label='train acc')\n",
    "plt.plot(history.history['val_accuracy'], label='val acc')\n",
    "plt.legend()\n",
    "plt.show()"
   ],
   "metadata": {
    "collapsed": false,
    "pycharm": {
     "name": "#%%\n"
    }
   }
  },
  {
   "cell_type": "code",
   "execution_count": 13,
   "outputs": [
    {
     "data": {
      "text/plain": "<Figure size 432x288 with 1 Axes>",
      "image/png": "[encoded data removed]"
     },
     "metadata": {
      "needs_background": "light"
     },
     "output_type": "display_data"
    }
   ],
   "source": [
    "plt.plot(history.history['loss'], label='train loss')\n",
    "plt.plot(history.history['val_loss'], label='val loss')\n",
    "plt.legend()\n",
    "plt.show()"
   ],
   "metadata": {
    "collapsed": false,
    "pycharm": {
     "name": "#%%\n"
    }
   }
  },
  {
   "cell_type": "code",
   "execution_count": 14,
   "outputs": [
    {
     "name": "stdout",
     "output_type": "stream",
     "text": [
      "tf.Tensor(\n",
      "[[43  3]\n",
      " [ 1 13]], shape=(2, 2), dtype=int32)\n"
     ]
    }
   ],
   "source": [
    "y_test_pred = model.predict(x_test)\n",
    "confusion_matrix = tf.math.confusion_matrix(y_test.argmax(axis=1), y_test_pred.argmax(axis=1))\n",
    "print(confusion_matrix)"
   ],
   "metadata": {
    "collapsed": false,
    "pycharm": {
     "name": "#%%\n"
    }
   }
  },
  {
   "cell_type": "code",
   "execution_count": 17,
   "outputs": [
    {
     "name": "stdout",
     "output_type": "stream",
     "text": [
      "[[1. 0.]\n",
      " [1. 0.]\n",
      " [1. 0.]\n",
      " [1. 0.]\n",
      " [1. 0.]\n",
      " [1. 0.]\n",
      " [1. 0.]\n",
      " [1. 0.]\n",
      " [1. 0.]\n",
      " [1. 0.]\n",
      " [0. 1.]\n",
      " [1. 0.]\n",
      " [1. 0.]\n",
      " [1. 0.]\n",
      " [1. 0.]\n",
      " [1. 0.]\n",
      " [1. 0.]\n",
      " [0. 1.]\n",
      " [1. 0.]\n",
      " [1. 0.]\n",
      " [0. 1.]\n",
      " [1. 0.]]\n"
     ]
    }
   ],
   "source": [
    "print(y_test)"
   ],
   "metadata": {
    "collapsed": false,
    "pycharm": {
     "name": "#%%\n"
    }
   }
  },
  {
   "cell_type": "code",
   "execution_count": 15,
   "outputs": [
    {
     "data": {
      "text/plain": "<Figure size 432x288 with 1 Axes>",
      "image/png": "[encoded data removed]"
     },
     "metadata": {
      "needs_background": "light"
     },
     "output_type": "display_data"
    }
   ],
   "source": [
    "fpr_m, tpr_m, thresholds_m = roc_curve(y_test.argmax(axis=1), y_test_pred.argmax(axis=1))\n",
    "\n",
    "def plot_roc_curve(fpr, tpr):\n",
    "    plt.plot(fpr,tpr)\n",
    "    plt.axis([0,1,0,1])\n",
    "    plt.xlabel('False Positive Rate')\n",
    "    plt.ylabel('True Positive Rate')\n",
    "    plt.show()\n",
    "\n",
    "plot_roc_curve (fpr_m, tpr_m)"
   ],
   "metadata": {
    "collapsed": false,
    "pycharm": {
     "name": "#%%\n"
    }
   }
  },
  {
   "cell_type": "code",
   "execution_count": 16,
   "outputs": [
    {
     "name": "stdout",
     "output_type": "stream",
     "text": [
      "1/1 [==============================] - 0s 190ms/step - loss: 11.4983 - accuracy: 0.0000e+00\n",
      "Test result: 0.000 loss: 11.498\n",
      "tf.Tensor(\n",
      "[[0 0]\n",
      " [8 0]], shape=(2, 2), dtype=int32)\n"
     ]
    }
   ],
   "source": [
    "xx_f8, yy_f8 = load_data(source_file='micc_f8_names.txt', source_dir='MICC-F8multi')\n",
    "xx_f8 = xx_f8 / 255.0\n",
    "\n",
    "scores = model.evaluate(xx_f8, yy_f8, batch_size=128, verbose=1)\n",
    "print('Test result: %.3f loss: %.3f' % (scores[1] * 100, scores [0]))\n",
    "\n",
    "yy_f8_pred = model.predict(xx_f8)\n",
    "confusion_matrix = tf.math.confusion_matrix(yy_f8.argmax(axis=1), yy_f8_pred.argmax(axis=1))\n",
    "print(confusion_matrix)"
   ],
   "metadata": {
    "collapsed": false,
    "pycharm": {
     "name": "#%%\n"
    }
   }
  },
  {
   "cell_type": "code",
   "execution_count": 17,
   "outputs": [
    {
     "name": "stdout",
     "output_type": "stream",
     "text": [
      "1/1 [==============================] - 0s 23ms/step - loss: 1.9023 - accuracy: 0.5000\n",
      "Test result: 50.000 loss: 1.902\n",
      "tf.Tensor(\n",
      "[[4 0]\n",
      " [4 0]], shape=(2, 2), dtype=int32)\n"
     ]
    }
   ],
   "source": [
    "xx_our, yy_our = load_data(source_file='our_test_classes.txt', source_dir='Our_test')\n",
    "xx_our = xx_our / 255.0\n",
    "\n",
    "scores = model.evaluate(xx_our, yy_our, batch_size=128, verbose=1)\n",
    "print('Test result: %.3f loss: %.3f' % (scores[1] * 100, scores[0]))\n",
    "\n",
    "yy_our_pred = model.predict(xx_our)\n",
    "confusion_matrix = tf.math.confusion_matrix(yy_our.argmax(axis=1), yy_our_pred.argmax(axis=1))\n",
    "print(confusion_matrix)"
   ],
   "metadata": {
    "collapsed": false,
    "pycharm": {
     "name": "#%%\n"
    }
   }
  },
  {
   "cell_type": "code",
   "execution_count": null,
   "outputs": [],
   "source": [],
   "metadata": {
    "collapsed": false,
    "pycharm": {
     "name": "#%%\n"
    }
   }
  }
 ],
 "metadata": {
  "kernelspec": {
   "display_name": "Python 3",
   "language": "python",
   "name": "python3"
  },
  "language_info": {
   "codemirror_mode": {
    "name": "ipython",
    "version": 2
   },
   "file_extension": ".py",
   "mimetype": "text/x-python",
   "name": "python",
   "nbconvert_exporter": "python",
   "pygments_lexer": "ipython2",
   "version": "2.7.6"
  }
 },
 "nbformat": 4,
 "nbformat_minor": 0
}