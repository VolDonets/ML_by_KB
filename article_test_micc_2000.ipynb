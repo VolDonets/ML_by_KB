{
 "cells": [
  {
   "cell_type": "code",
   "execution_count": 1,
   "outputs": [],
   "source": [
    "import keras\n",
    "\n",
    "from keras.preprocessing.image import ImageDataGenerator\n",
    "from keras.models import Sequential\n",
    "from keras.utils import np_utils\n",
    "from keras.layers import Dense, Activation, Flatten, Dropout, Conv2D, MaxPooling2D, BatchNormalization, \\\n",
    "    AveragePooling2D, GlobalAveragePooling2D\n",
    "from keras.callbacks import ModelCheckpoint\n",
    "from keras import regularizers, optimizers\n",
    "\n",
    "import numpy as np\n",
    "from matplotlib import pyplot\n",
    "\n",
    "import cv2\n",
    "from sklearn.metrics import roc_curve, roc_auc_score\n",
    "from sklearn.model_selection import train_test_split\n",
    "from keras.callbacks import ModelCheckpoint\n",
    "import matplotlib.pyplot as plt\n",
    "import tensorflow as tf"
   ],
   "metadata": {
    "collapsed": false,
    "pycharm": {
     "name": "#%%\n"
    }
   }
  },
  {
   "cell_type": "code",
   "execution_count": 2,
   "outputs": [
    {
     "name": "stdout",
     "output_type": "stream",
     "text": [
      "Model: \"sequential\"\n",
      "_________________________________________________________________\n",
      "Layer (type)                 Output Shape              Param #   \n",
      "=================================================================\n",
      "CONV_1 (Conv2D)              (None, 224, 224, 16)      448       \n",
      "_________________________________________________________________\n",
      "POOL_1 (MaxPooling2D)        (None, 112, 112, 16)      0         \n",
      "_________________________________________________________________\n",
      "CONV_2 (Conv2D)              (None, 110, 110, 32)      4640      \n",
      "_________________________________________________________________\n",
      "POOL_2 (MaxPooling2D)        (None, 55, 55, 32)        0         \n",
      "_________________________________________________________________\n",
      "CONV_3 (Conv2D)              (None, 53, 53, 64)        18496     \n",
      "_________________________________________________________________\n",
      "POOL_3 (MaxPooling2D)        (None, 26, 26, 64)        0         \n",
      "_________________________________________________________________\n",
      "CONV_4 (Conv2D)              (None, 24, 24, 128)       73856     \n",
      "_________________________________________________________________\n",
      "POOL_4 (MaxPooling2D)        (None, 12, 12, 128)       0         \n",
      "_________________________________________________________________\n",
      "CONV_5 (Conv2D)              (None, 10, 10, 256)       295168    \n",
      "_________________________________________________________________\n",
      "POOL_5 (MaxPooling2D)        (None, 5, 5, 256)         0         \n",
      "_________________________________________________________________\n",
      "CONV_6 (Conv2D)              (None, 3, 3, 512)         1180160   \n",
      "_________________________________________________________________\n",
      "POOL_6 (MaxPooling2D)        (None, 1, 1, 512)         0         \n",
      "_________________________________________________________________\n",
      "GAP (GlobalAveragePooling2D) (None, 512)               0         \n",
      "_________________________________________________________________\n",
      "CL_DET (Dense)               (None, 2)                 1026      \n",
      "=================================================================\n",
      "Total params: 1,573,794\n",
      "Trainable params: 1,573,794\n",
      "Non-trainable params: 0\n",
      "_________________________________________________________________\n"
     ]
    }
   ],
   "source": [
    "def get_st_mod():\n",
    "    md = Sequential()\n",
    "\n",
    "    # CONV 1 & POOL 1\n",
    "    md.add(Conv2D(filters=16, kernel_size=(3, 3), strides=1, padding='same',\n",
    "                  activation='relu',\n",
    "                  input_shape=(224, 224, 3),\n",
    "                  name='CONV_1'))  # -> 224, 224, 16\n",
    "    md.add(MaxPooling2D(pool_size=2, strides=2,\n",
    "                        name='POOL_1'))  # -> 112, 112, 16\n",
    "\n",
    "    # CONV 2 & POOL 2\n",
    "    md.add(Conv2D(filters=32, kernel_size=(3, 3), strides=1, padding='valid',\n",
    "                  activation='relu',\n",
    "                  name='CONV_2'))  # -> 110, 110, 32\n",
    "    md.add(MaxPooling2D(pool_size=2, strides=2,\n",
    "                        name='POOL_2'))  # -> 55, 55, 32\n",
    "\n",
    "    # CONV 3 & POOL 3\n",
    "    md.add(Conv2D(filters=64, kernel_size=(3, 3), strides=1, padding='valid',\n",
    "                  activation='relu',\n",
    "                  name='CONV_3'))  # -> 53, 53, 64\n",
    "    md.add(MaxPooling2D(pool_size=2, strides=2,\n",
    "                        name='POOL_3'))  # -> 26, 26, 64\n",
    "\n",
    "    # CONV 4 & POOL 4\n",
    "    md.add(Conv2D(filters=128, kernel_size=(3, 3), strides=1, padding='valid',\n",
    "                  activation='relu',\n",
    "                  name='CONV_4'))  # -> 24, 24, 128\n",
    "    md.add(MaxPooling2D(pool_size=2, strides=2,\n",
    "                        name='POOL_4'))  # -> 12, 12, 128\n",
    "\n",
    "    # CONV 5 & POOL 5\n",
    "    md.add(Conv2D(filters=256, kernel_size=(3, 3), strides=1, padding='valid',\n",
    "                  activation='relu',\n",
    "                  name='CONV_5'))  # -> 5, 5, 256\n",
    "    md.add(MaxPooling2D(pool_size=2, strides=2,\n",
    "                        name='POOL_5'))  # -> 3, 3, 256\n",
    "\n",
    "    # CONV 6 & POOL 6\n",
    "    md.add(Conv2D(filters=512, kernel_size=(3, 3), strides=1, padding='valid',\n",
    "                  activation='relu',\n",
    "                  name='CONV_6'))  # 1, 1, 512\n",
    "    md.add(MaxPooling2D(pool_size=2, strides=2,\n",
    "                        name='POOL_6'))  # -> 3, 3, 256\n",
    "\n",
    "    # #FLATTEN\n",
    "    # md.add(Flatten())\n",
    "\n",
    "    # #FC 1\n",
    "    # md.add(Dense(units=512, activation='relu',\n",
    "    #              name='FC_1'))\n",
    "    # Global Average Layer\n",
    "    md.add(GlobalAveragePooling2D(name='GAP'))\n",
    "\n",
    "    #SOFT_MAX\n",
    "    md.add(Dense(units=2, activation='softmax',\n",
    "                 name='CL_DET'))\n",
    "\n",
    "    return md\n",
    "\n",
    "\n",
    "model = get_st_mod()\n",
    "model.summary()"
   ],
   "metadata": {
    "collapsed": false,
    "pycharm": {
     "name": "#%%\n"
    }
   }
  },
  {
   "cell_type": "code",
   "execution_count": 3,
   "outputs": [],
   "source": [
    "num_classes = 2\n",
    "\n",
    "\n",
    "def load_data(source_file='micc_f220_classes.txt', source_dir='MICC-F220'):\n",
    "    with open(source_dir + '/' + source_file) as file_with_names:\n",
    "        list_imgs = file_with_names.readlines()\n",
    "    file_with_names.close()\n",
    "\n",
    "    list_img_name_class = []\n",
    "    for line in list_imgs:\n",
    "        line = line[:-1]\n",
    "        list_img_name_class.append((line.split('\\t')[0], int(line.split('\\t')[1])))\n",
    "\n",
    "    x_data = []\n",
    "    y_data = []\n",
    "    for rec in list_img_name_class:\n",
    "        x_data.append(cv2.imread(source_dir + '/resized/' + rec[0]))\n",
    "        y_data.append(rec[1])\n",
    "\n",
    "    x_data = np.array(x_data)\n",
    "    y_data = np_utils.to_categorical(y_data, num_classes)\n",
    "    return x_data, y_data"
   ],
   "metadata": {
    "collapsed": false,
    "pycharm": {
     "name": "#%%\n"
    }
   }
  },
  {
   "cell_type": "code",
   "execution_count": 4,
   "outputs": [],
   "source": [
    "xx, yy = load_data(source_file='micc_f2000_classes.txt', source_dir='MICC-F2000')"
   ],
   "metadata": {
    "collapsed": false,
    "pycharm": {
     "name": "#%%\n"
    }
   }
  },
  {
   "cell_type": "code",
   "execution_count": 5,
   "outputs": [
    {
     "name": "stdout",
     "output_type": "stream",
     "text": [
      "2000\n",
      "[[0. 1.]\n",
      " [0. 1.]\n",
      " [0. 1.]\n",
      " ...\n",
      " [1. 0.]\n",
      " [1. 0.]\n",
      " [1. 0.]]\n"
     ]
    }
   ],
   "source": [
    "print(len(xx))\n",
    "print(yy)"
   ],
   "metadata": {
    "collapsed": false,
    "pycharm": {
     "name": "#%%\n"
    }
   }
  },
  {
   "cell_type": "code",
   "execution_count": 6,
   "outputs": [],
   "source": [
    "xx = xx / 255.0"
   ],
   "metadata": {
    "collapsed": false,
    "pycharm": {
     "name": "#%%\n"
    }
   }
  },
  {
   "cell_type": "code",
   "execution_count": 7,
   "outputs": [],
   "source": [
    "train_size = 0.95\n",
    "test_size = 0.05\n",
    "\n",
    "x_train, x_test, y_train, y_test = train_test_split(xx, yy, test_size=test_size, random_state=13)"
   ],
   "metadata": {
    "collapsed": false,
    "pycharm": {
     "name": "#%%\n"
    }
   }
  },
  {
   "cell_type": "code",
   "execution_count": 9,
   "outputs": [],
   "source": [
    "model.compile(loss='categorical_crossentropy',\n",
    "              optimizer='adamax',\n",
    "              metrics=['accuracy'])"
   ],
   "metadata": {
    "collapsed": false,
    "pycharm": {
     "name": "#%%\n"
    }
   }
  },
  {
   "cell_type": "code",
   "execution_count": 10,
   "outputs": [
    {
     "name": "stdout",
     "output_type": "stream",
     "text": [
      "Epoch 1/100\n",
      "30/30 - 8s - loss: 0.6652 - accuracy: 0.6574 - val_loss: 0.7276 - val_accuracy: 0.5100\n",
      "Epoch 2/100\n",
      "30/30 - 3s - loss: 0.6395 - accuracy: 0.6574 - val_loss: 0.7316 - val_accuracy: 0.5100\n",
      "Epoch 3/100\n",
      "30/30 - 3s - loss: 0.6252 - accuracy: 0.6574 - val_loss: 0.6703 - val_accuracy: 0.5100\n",
      "Epoch 4/100\n",
      "30/30 - 3s - loss: 0.6022 - accuracy: 0.6568 - val_loss: 0.6879 - val_accuracy: 0.5700\n",
      "Epoch 5/100\n",
      "30/30 - 3s - loss: 0.5747 - accuracy: 0.6874 - val_loss: 0.6069 - val_accuracy: 0.6300\n",
      "Epoch 6/100\n",
      "30/30 - 3s - loss: 0.5230 - accuracy: 0.7247 - val_loss: 0.5498 - val_accuracy: 0.7400\n",
      "Epoch 7/100\n",
      "30/30 - 4s - loss: 0.4803 - accuracy: 0.7621 - val_loss: 0.5435 - val_accuracy: 0.7000\n",
      "Epoch 8/100\n",
      "30/30 - 4s - loss: 0.3993 - accuracy: 0.8184 - val_loss: 0.4130 - val_accuracy: 0.8500\n",
      "Epoch 9/100\n",
      "30/30 - 4s - loss: 0.3281 - accuracy: 0.8589 - val_loss: 0.3968 - val_accuracy: 0.8200\n",
      "Epoch 10/100\n",
      "30/30 - 3s - loss: 0.3152 - accuracy: 0.8647 - val_loss: 0.3522 - val_accuracy: 0.8000\n",
      "Epoch 11/100\n",
      "30/30 - 3s - loss: 0.2367 - accuracy: 0.9116 - val_loss: 0.2547 - val_accuracy: 0.9300\n",
      "Epoch 12/100\n",
      "30/30 - 3s - loss: 0.2289 - accuracy: 0.9179 - val_loss: 0.2462 - val_accuracy: 0.9400\n",
      "Epoch 13/100\n",
      "30/30 - 3s - loss: 0.1983 - accuracy: 0.9368 - val_loss: 0.2353 - val_accuracy: 0.9300\n",
      "Epoch 14/100\n",
      "30/30 - 3s - loss: 0.2062 - accuracy: 0.9289 - val_loss: 0.2473 - val_accuracy: 0.9000\n",
      "Epoch 15/100\n",
      "30/30 - 4s - loss: 0.1710 - accuracy: 0.9500 - val_loss: 0.2582 - val_accuracy: 0.8900\n",
      "Epoch 16/100\n",
      "30/30 - 4s - loss: 0.1633 - accuracy: 0.9542 - val_loss: 0.1693 - val_accuracy: 0.9800\n",
      "Epoch 17/100\n",
      "30/30 - 4s - loss: 0.1586 - accuracy: 0.9547 - val_loss: 0.2040 - val_accuracy: 0.9400\n",
      "Epoch 18/100\n",
      "30/30 - 4s - loss: 0.1698 - accuracy: 0.9442 - val_loss: 0.1587 - val_accuracy: 0.9800\n",
      "Epoch 19/100\n",
      "30/30 - 3s - loss: 0.1387 - accuracy: 0.9679 - val_loss: 0.1908 - val_accuracy: 0.9600\n",
      "Epoch 20/100\n",
      "30/30 - 4s - loss: 0.1415 - accuracy: 0.9637 - val_loss: 0.2084 - val_accuracy: 0.9500\n",
      "Epoch 21/100\n",
      "30/30 - 4s - loss: 0.1231 - accuracy: 0.9658 - val_loss: 0.1513 - val_accuracy: 0.9800\n",
      "Epoch 22/100\n",
      "30/30 - 3s - loss: 0.1373 - accuracy: 0.9684 - val_loss: 0.1568 - val_accuracy: 0.9800\n",
      "Epoch 23/100\n",
      "30/30 - 4s - loss: 0.1255 - accuracy: 0.9695 - val_loss: 0.1314 - val_accuracy: 0.9800\n",
      "Epoch 24/100\n",
      "30/30 - 4s - loss: 0.1317 - accuracy: 0.9637 - val_loss: 0.1438 - val_accuracy: 0.9700\n",
      "Epoch 25/100\n",
      "30/30 - 4s - loss: 0.1209 - accuracy: 0.9732 - val_loss: 0.1683 - val_accuracy: 0.9800\n",
      "Epoch 26/100\n",
      "30/30 - 4s - loss: 0.1110 - accuracy: 0.9726 - val_loss: 0.1585 - val_accuracy: 0.9800\n",
      "Epoch 27/100\n",
      "30/30 - 4s - loss: 0.1168 - accuracy: 0.9742 - val_loss: 0.1982 - val_accuracy: 0.9500\n",
      "Epoch 28/100\n",
      "30/30 - 4s - loss: 0.1208 - accuracy: 0.9711 - val_loss: 0.1719 - val_accuracy: 0.9800\n",
      "Epoch 29/100\n",
      "30/30 - 4s - loss: 0.1136 - accuracy: 0.9721 - val_loss: 0.1429 - val_accuracy: 0.9800\n",
      "Epoch 30/100\n",
      "30/30 - 4s - loss: 0.1191 - accuracy: 0.9684 - val_loss: 0.1438 - val_accuracy: 0.9800\n",
      "Epoch 31/100\n",
      "30/30 - 4s - loss: 0.1067 - accuracy: 0.9747 - val_loss: 0.1400 - val_accuracy: 0.9800\n",
      "Epoch 32/100\n",
      "30/30 - 3s - loss: 0.1111 - accuracy: 0.9737 - val_loss: 0.1406 - val_accuracy: 0.9800\n",
      "Epoch 33/100\n",
      "30/30 - 3s - loss: 0.1235 - accuracy: 0.9732 - val_loss: 0.1381 - val_accuracy: 0.9800\n",
      "Epoch 34/100\n",
      "30/30 - 3s - loss: 0.1072 - accuracy: 0.9747 - val_loss: 0.1546 - val_accuracy: 0.9800\n",
      "Epoch 35/100\n",
      "30/30 - 3s - loss: 0.1065 - accuracy: 0.9747 - val_loss: 0.1402 - val_accuracy: 0.9800\n",
      "Epoch 36/100\n",
      "30/30 - 3s - loss: 0.1063 - accuracy: 0.9716 - val_loss: 0.1648 - val_accuracy: 0.9700\n",
      "Epoch 37/100\n",
      "30/30 - 3s - loss: 0.1033 - accuracy: 0.9737 - val_loss: 0.1447 - val_accuracy: 0.9800\n",
      "Epoch 38/100\n",
      "30/30 - 3s - loss: 0.0963 - accuracy: 0.9742 - val_loss: 0.1543 - val_accuracy: 0.9800\n",
      "Epoch 39/100\n",
      "30/30 - 3s - loss: 0.1039 - accuracy: 0.9726 - val_loss: 0.1517 - val_accuracy: 0.9800\n",
      "Epoch 40/100\n",
      "30/30 - 3s - loss: 0.1036 - accuracy: 0.9737 - val_loss: 0.1492 - val_accuracy: 0.9800\n",
      "Epoch 41/100\n",
      "30/30 - 3s - loss: 0.1039 - accuracy: 0.9732 - val_loss: 0.1499 - val_accuracy: 0.9800\n",
      "Epoch 42/100\n",
      "30/30 - 3s - loss: 0.0980 - accuracy: 0.9732 - val_loss: 0.1487 - val_accuracy: 0.9800\n",
      "Epoch 43/100\n",
      "30/30 - 3s - loss: 0.1183 - accuracy: 0.9705 - val_loss: 0.1686 - val_accuracy: 0.9600\n",
      "Epoch 44/100\n",
      "30/30 - 3s - loss: 0.1038 - accuracy: 0.9747 - val_loss: 0.1808 - val_accuracy: 0.9600\n",
      "Epoch 45/100\n",
      "30/30 - 3s - loss: 0.1061 - accuracy: 0.9726 - val_loss: 0.1719 - val_accuracy: 0.9700\n",
      "Epoch 46/100\n",
      "30/30 - 3s - loss: 0.1026 - accuracy: 0.9747 - val_loss: 0.1382 - val_accuracy: 0.9800\n",
      "Epoch 47/100\n",
      "30/30 - 3s - loss: 0.0943 - accuracy: 0.9758 - val_loss: 0.1510 - val_accuracy: 0.9800\n",
      "Epoch 48/100\n",
      "30/30 - 3s - loss: 0.0979 - accuracy: 0.9763 - val_loss: 0.1523 - val_accuracy: 0.9800\n",
      "Epoch 49/100\n",
      "30/30 - 3s - loss: 0.0975 - accuracy: 0.9747 - val_loss: 0.1585 - val_accuracy: 0.9700\n",
      "Epoch 50/100\n",
      "30/30 - 3s - loss: 0.1070 - accuracy: 0.9747 - val_loss: 0.1550 - val_accuracy: 0.9800\n",
      "Epoch 51/100\n",
      "30/30 - 3s - loss: 0.0981 - accuracy: 0.9753 - val_loss: 0.1783 - val_accuracy: 0.9700\n",
      "Epoch 52/100\n",
      "30/30 - 3s - loss: 0.1036 - accuracy: 0.9753 - val_loss: 0.1644 - val_accuracy: 0.9800\n",
      "Epoch 53/100\n",
      "30/30 - 3s - loss: 0.0965 - accuracy: 0.9711 - val_loss: 0.1706 - val_accuracy: 0.9800\n",
      "Epoch 54/100\n",
      "30/30 - 4s - loss: 0.1055 - accuracy: 0.9742 - val_loss: 0.1695 - val_accuracy: 0.9800\n",
      "Epoch 55/100\n",
      "30/30 - 4s - loss: 0.0948 - accuracy: 0.9763 - val_loss: 0.1607 - val_accuracy: 0.9700\n",
      "Epoch 56/100\n",
      "30/30 - 3s - loss: 0.0955 - accuracy: 0.9758 - val_loss: 0.1794 - val_accuracy: 0.9600\n",
      "Epoch 57/100\n",
      "30/30 - 4s - loss: 0.0933 - accuracy: 0.9742 - val_loss: 0.1762 - val_accuracy: 0.9700\n",
      "Epoch 58/100\n",
      "30/30 - 4s - loss: 0.0914 - accuracy: 0.9747 - val_loss: 0.1570 - val_accuracy: 0.9800\n",
      "Epoch 59/100\n",
      "30/30 - 4s - loss: 0.0975 - accuracy: 0.9747 - val_loss: 0.1730 - val_accuracy: 0.9800\n",
      "Epoch 60/100\n",
      "30/30 - 4s - loss: 0.0868 - accuracy: 0.9763 - val_loss: 0.1596 - val_accuracy: 0.9700\n",
      "Epoch 61/100\n",
      "30/30 - 4s - loss: 0.0914 - accuracy: 0.9763 - val_loss: 0.1725 - val_accuracy: 0.9600\n",
      "Epoch 62/100\n",
      "30/30 - 4s - loss: 0.0912 - accuracy: 0.9768 - val_loss: 0.1554 - val_accuracy: 0.9800\n",
      "Epoch 63/100\n",
      "30/30 - 4s - loss: 0.0898 - accuracy: 0.9768 - val_loss: 0.1557 - val_accuracy: 0.9700\n",
      "Epoch 64/100\n",
      "30/30 - 4s - loss: 0.0917 - accuracy: 0.9742 - val_loss: 0.1899 - val_accuracy: 0.9600\n",
      "Epoch 65/100\n",
      "30/30 - 4s - loss: 0.0919 - accuracy: 0.9742 - val_loss: 0.1503 - val_accuracy: 0.9800\n",
      "Epoch 66/100\n",
      "30/30 - 4s - loss: 0.0927 - accuracy: 0.9763 - val_loss: 0.1716 - val_accuracy: 0.9700\n",
      "Epoch 67/100\n",
      "30/30 - 4s - loss: 0.0848 - accuracy: 0.9774 - val_loss: 0.1611 - val_accuracy: 0.9700\n",
      "Epoch 68/100\n",
      "30/30 - 4s - loss: 0.0836 - accuracy: 0.9768 - val_loss: 0.1888 - val_accuracy: 0.9700\n",
      "Epoch 69/100\n",
      "30/30 - 4s - loss: 0.0848 - accuracy: 0.9779 - val_loss: 0.1708 - val_accuracy: 0.9800\n",
      "Epoch 70/100\n",
      "30/30 - 4s - loss: 0.0867 - accuracy: 0.9774 - val_loss: 0.1635 - val_accuracy: 0.9800\n",
      "Epoch 71/100\n",
      "30/30 - 4s - loss: 0.0836 - accuracy: 0.9774 - val_loss: 0.1631 - val_accuracy: 0.9600\n",
      "Epoch 72/100\n",
      "30/30 - 4s - loss: 0.0845 - accuracy: 0.9758 - val_loss: 0.1639 - val_accuracy: 0.9700\n",
      "Epoch 73/100\n",
      "30/30 - 4s - loss: 0.0903 - accuracy: 0.9763 - val_loss: 0.2750 - val_accuracy: 0.9000\n",
      "Epoch 74/100\n",
      "30/30 - 4s - loss: 0.0847 - accuracy: 0.9774 - val_loss: 0.1558 - val_accuracy: 0.9800\n",
      "Epoch 75/100\n",
      "30/30 - 4s - loss: 0.0816 - accuracy: 0.9795 - val_loss: 0.2025 - val_accuracy: 0.9600\n",
      "Epoch 76/100\n",
      "30/30 - 4s - loss: 0.0868 - accuracy: 0.9763 - val_loss: 0.1810 - val_accuracy: 0.9700\n",
      "Epoch 77/100\n",
      "30/30 - 4s - loss: 0.0817 - accuracy: 0.9774 - val_loss: 0.1515 - val_accuracy: 0.9800\n",
      "Epoch 78/100\n",
      "30/30 - 4s - loss: 0.0882 - accuracy: 0.9758 - val_loss: 0.1545 - val_accuracy: 0.9800\n",
      "Epoch 79/100\n",
      "30/30 - 4s - loss: 0.0839 - accuracy: 0.9753 - val_loss: 0.1599 - val_accuracy: 0.9800\n",
      "Epoch 80/100\n",
      "30/30 - 4s - loss: 0.0846 - accuracy: 0.9768 - val_loss: 0.1589 - val_accuracy: 0.9800\n",
      "Epoch 81/100\n",
      "30/30 - 4s - loss: 0.0840 - accuracy: 0.9774 - val_loss: 0.1533 - val_accuracy: 0.9700\n",
      "Epoch 82/100\n",
      "30/30 - 4s - loss: 0.0786 - accuracy: 0.9779 - val_loss: 0.1717 - val_accuracy: 0.9500\n",
      "Epoch 83/100\n",
      "30/30 - 4s - loss: 0.0808 - accuracy: 0.9779 - val_loss: 0.1652 - val_accuracy: 0.9800\n",
      "Epoch 84/100\n",
      "30/30 - 4s - loss: 0.0761 - accuracy: 0.9768 - val_loss: 0.1731 - val_accuracy: 0.9700\n",
      "Epoch 85/100\n",
      "30/30 - 4s - loss: 0.0751 - accuracy: 0.9805 - val_loss: 0.1689 - val_accuracy: 0.9700\n",
      "Epoch 86/100\n",
      "30/30 - 4s - loss: 0.0735 - accuracy: 0.9805 - val_loss: 0.1805 - val_accuracy: 0.9600\n",
      "Epoch 87/100\n",
      "30/30 - 4s - loss: 0.0782 - accuracy: 0.9753 - val_loss: 0.1467 - val_accuracy: 0.9800\n",
      "Epoch 88/100\n",
      "30/30 - 4s - loss: 0.0703 - accuracy: 0.9800 - val_loss: 0.1928 - val_accuracy: 0.9700\n",
      "Epoch 89/100\n",
      "30/30 - 4s - loss: 0.0705 - accuracy: 0.9821 - val_loss: 0.1771 - val_accuracy: 0.9800\n",
      "Epoch 90/100\n",
      "30/30 - 4s - loss: 0.0703 - accuracy: 0.9795 - val_loss: 0.1617 - val_accuracy: 0.9800\n",
      "Epoch 91/100\n",
      "30/30 - 4s - loss: 0.0754 - accuracy: 0.9779 - val_loss: 0.1749 - val_accuracy: 0.9700\n",
      "Epoch 92/100\n",
      "30/30 - 4s - loss: 0.0688 - accuracy: 0.9805 - val_loss: 0.1844 - val_accuracy: 0.9600\n",
      "Epoch 93/100\n",
      "30/30 - 4s - loss: 0.0664 - accuracy: 0.9816 - val_loss: 0.1584 - val_accuracy: 0.9800\n",
      "Epoch 94/100\n",
      "30/30 - 4s - loss: 0.0694 - accuracy: 0.9821 - val_loss: 0.1841 - val_accuracy: 0.9600\n",
      "Epoch 95/100\n",
      "30/30 - 4s - loss: 0.0720 - accuracy: 0.9789 - val_loss: 0.1638 - val_accuracy: 0.9800\n",
      "Epoch 96/100\n",
      "30/30 - 4s - loss: 0.0705 - accuracy: 0.9826 - val_loss: 0.1896 - val_accuracy: 0.9600\n",
      "Epoch 97/100\n",
      "30/30 - 4s - loss: 0.0669 - accuracy: 0.9811 - val_loss: 0.1727 - val_accuracy: 0.9700\n",
      "Epoch 98/100\n",
      "30/30 - 4s - loss: 0.0645 - accuracy: 0.9816 - val_loss: 0.1859 - val_accuracy: 0.9600\n",
      "Epoch 99/100\n",
      "30/30 - 4s - loss: 0.0684 - accuracy: 0.9816 - val_loss: 0.1781 - val_accuracy: 0.9600\n",
      "Epoch 100/100\n",
      "30/30 - 4s - loss: 0.0618 - accuracy: 0.9832 - val_loss: 0.1752 - val_accuracy: 0.9600\n"
     ]
    }
   ],
   "source": [
    "batch_size = 64\n",
    "epochs = 100\n",
    "model_file_path = 'MICC-F2000/test_5_micc_f2000.hdf5'\n",
    "\n",
    "checkpointer = ModelCheckpoint(filepath=model_file_path, verpose=1,\n",
    "                               save_best_only=True)\n",
    "\n",
    "history = model.fit(x_train, y_train, batch_size=batch_size, epochs=epochs,\n",
    "                    validation_data=(x_test, y_test),\n",
    "                    verbose=2, shuffle=True,\n",
    "                    callbacks=[checkpointer])"
   ],
   "metadata": {
    "collapsed": false,
    "pycharm": {
     "name": "#%%\n"
    }
   }
  },
  {
   "cell_type": "code",
   "execution_count": 11,
   "outputs": [
    {
     "name": "stdout",
     "output_type": "stream",
     "text": [
      "1/1 [==============================] - 1s 793ms/step - loss: 0.1752 - accuracy: 0.9600\n",
      "Test result: 96.000 loss: 0.175\n"
     ]
    }
   ],
   "source": [
    "scores = model.evaluate(x_test, y_test, batch_size=128, verbose=1)\n",
    "print('Test result: %.3f loss: %.3f' % (scores[1] * 100, scores [0]))"
   ],
   "metadata": {
    "collapsed": false,
    "pycharm": {
     "name": "#%%\n"
    }
   }
  },
  {
   "cell_type": "code",
   "execution_count": 12,
   "outputs": [
    {
     "data": {
      "text/plain": "<Figure size 432x288 with 1 Axes>",
      "image/png": "[encoded data removed]"
     },
     "metadata": {
      "needs_background": "light"
     },
     "output_type": "display_data"
    }
   ],
   "source": [
    "plt.plot(history.history['accuracy'], label='train acc')\n",
    "plt.plot(history.history['val_accuracy'], label='val acc')\n",
    "plt.legend()\n",
    "plt.show()"
   ],
   "metadata": {
    "collapsed": false,
    "pycharm": {
     "name": "#%%\n"
    }
   }
  },
  {
   "cell_type": "code",
   "execution_count": 13,
   "outputs": [
    {
     "data": {
      "text/plain": "<Figure size 432x288 with 1 Axes>",
      "image/png": "[encoded data removed]"
     },
     "metadata": {
      "needs_background": "light"
     },
     "output_type": "display_data"
    }
   ],
   "source": [
    "plt.plot(history.history['loss'], label='train loss')\n",
    "plt.plot(history.history['val_loss'], label='val loss')\n",
    "plt.legend()\n",
    "plt.show()"
   ],
   "metadata": {
    "collapsed": false,
    "pycharm": {
     "name": "#%%\n"
    }
   }
  },
  {
   "cell_type": "code",
   "execution_count": 14,
   "outputs": [
    {
     "name": "stdout",
     "output_type": "stream",
     "text": [
      "tf.Tensor(\n",
      "[[49  2]\n",
      " [ 2 47]], shape=(2, 2), dtype=int32)\n"
     ]
    }
   ],
   "source": [
    "y_test_pred = model.predict(x_test)\n",
    "confusion_matrix = tf.math.confusion_matrix(y_test.argmax(axis=1), y_test_pred.argmax(axis=1))\n",
    "print(confusion_matrix)"
   ],
   "metadata": {
    "collapsed": false,
    "pycharm": {
     "name": "#%%\n"
    }
   }
  },
  {
   "cell_type": "code",
   "execution_count": 17,
   "outputs": [
    {
     "name": "stdout",
     "output_type": "stream",
     "text": [
      "[[1. 0.]\n",
      " [1. 0.]\n",
      " [1. 0.]\n",
      " [1. 0.]\n",
      " [1. 0.]\n",
      " [1. 0.]\n",
      " [1. 0.]\n",
      " [1. 0.]\n",
      " [1. 0.]\n",
      " [1. 0.]\n",
      " [0. 1.]\n",
      " [1. 0.]\n",
      " [1. 0.]\n",
      " [1. 0.]\n",
      " [1. 0.]\n",
      " [1. 0.]\n",
      " [1. 0.]\n",
      " [0. 1.]\n",
      " [1. 0.]\n",
      " [1. 0.]\n",
      " [0. 1.]\n",
      " [1. 0.]]\n"
     ]
    }
   ],
   "source": [
    "print(y_test)"
   ],
   "metadata": {
    "collapsed": false,
    "pycharm": {
     "name": "#%%\n"
    }
   }
  },
  {
   "cell_type": "code",
   "execution_count": 15,
   "outputs": [
    {
     "data": {
      "text/plain": "<Figure size 432x288 with 1 Axes>",
      "image/png": "[encoded data removed]"
     },
     "metadata": {
      "needs_background": "light"
     },
     "output_type": "display_data"
    }
   ],
   "source": [
    "fpr_m, tpr_m, thresholds_m = roc_curve(y_test.argmax(axis=1), y_test_pred.argmax(axis=1))\n",
    "\n",
    "def plot_roc_curve(fpr, tpr):\n",
    "    plt.plot(fpr,tpr)\n",
    "    plt.axis([0,1,0,1])\n",
    "    plt.xlabel('False Positive Rate')\n",
    "    plt.ylabel('True Positive Rate')\n",
    "    plt.show()\n",
    "\n",
    "plot_roc_curve (fpr_m, tpr_m)"
   ],
   "metadata": {
    "collapsed": false,
    "pycharm": {
     "name": "#%%\n"
    }
   }
  },
  {
   "cell_type": "code",
   "execution_count": 16,
   "outputs": [
    {
     "name": "stdout",
     "output_type": "stream",
     "text": [
      "1/1 [==============================] - 0s 193ms/step - loss: 12.3535 - accuracy: 0.2500\n",
      "Test result: 25.000 loss: 12.354\n",
      "tf.Tensor(\n",
      "[[0 0]\n",
      " [6 2]], shape=(2, 2), dtype=int32)\n"
     ]
    }
   ],
   "source": [
    "xx_f8, yy_f8 = load_data(source_file='micc_f8_names.txt', source_dir='MICC-F8multi')\n",
    "xx_f8 = xx_f8 / 255.0\n",
    "\n",
    "scores = model.evaluate(xx_f8, yy_f8, batch_size=128, verbose=1)\n",
    "print('Test result: %.3f loss: %.3f' % (scores[1] * 100, scores [0]))\n",
    "\n",
    "yy_f8_pred = model.predict(xx_f8)\n",
    "confusion_matrix = tf.math.confusion_matrix(yy_f8.argmax(axis=1), yy_f8_pred.argmax(axis=1))\n",
    "print(confusion_matrix)"
   ],
   "metadata": {
    "collapsed": false,
    "pycharm": {
     "name": "#%%\n"
    }
   }
  },
  {
   "cell_type": "code",
   "execution_count": 17,
   "outputs": [
    {
     "name": "stdout",
     "output_type": "stream",
     "text": [
      "1/1 [==============================] - 0s 22ms/step - loss: 3.4946 - accuracy: 0.5000\n",
      "Test result: 50.000 loss: 3.495\n",
      "tf.Tensor(\n",
      "[[4 0]\n",
      " [4 0]], shape=(2, 2), dtype=int32)\n"
     ]
    }
   ],
   "source": [
    "xx_our, yy_our = load_data(source_file='our_test_classes.txt', source_dir='Our_test')\n",
    "xx_our = xx_our / 255.0\n",
    "\n",
    "scores = model.evaluate(xx_our, yy_our, batch_size=128, verbose=1)\n",
    "print('Test result: %.3f loss: %.3f' % (scores[1] * 100, scores[0]))\n",
    "\n",
    "yy_our_pred = model.predict(xx_our)\n",
    "confusion_matrix = tf.math.confusion_matrix(yy_our.argmax(axis=1), yy_our_pred.argmax(axis=1))\n",
    "print(confusion_matrix)"
   ],
   "metadata": {
    "collapsed": false,
    "pycharm": {
     "name": "#%%\n"
    }
   }
  },
  {
   "cell_type": "code",
   "execution_count": null,
   "outputs": [],
   "source": [],
   "metadata": {
    "collapsed": false,
    "pycharm": {
     "name": "#%%\n"
    }
   }
  }
 ],
 "metadata": {
  "kernelspec": {
   "display_name": "Python 3",
   "language": "python",
   "name": "python3"
  },
  "language_info": {
   "codemirror_mode": {
    "name": "ipython",
    "version": 2
   },
   "file_extension": ".py",
   "mimetype": "text/x-python",
   "name": "python",
   "nbconvert_exporter": "python",
   "pygments_lexer": "ipython2",
   "version": "2.7.6"
  }
 },
 "nbformat": 4,
 "nbformat_minor": 0
}