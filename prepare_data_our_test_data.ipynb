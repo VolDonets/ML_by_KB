{
 "cells": [
  {
   "cell_type": "code",
   "execution_count": 1,
   "outputs": [],
   "source": [
    "import cv2\n",
    "import matplotlib.pyplot as plt\n",
    "\n",
    "%matplotlib inline"
   ],
   "metadata": {
    "collapsed": false,
    "pycharm": {
     "name": "#%%\n"
    }
   }
  },
  {
   "cell_type": "code",
   "execution_count": 2,
   "outputs": [
    {
     "name": "stdout",
     "output_type": "stream",
     "text": [
      "['photo_2022-06-29_16-51-9_tamp.jpg', '3_orig.png', '2_orig.png', 'photo_2022-06-29_16-5-9_tamp.jpg', '1_orig.png', 'photo_2022-06-29_16-51-38_tamp.jpg', 'photo_2022-06-29_16-51-39_tamp.jpg', 'photo_2022-06-29_16-51-37_orig.jpg']\n"
     ]
    }
   ],
   "source": [
    "from os import listdir\n",
    "from os.path import isfile, join\n",
    "\n",
    "mypath = 'Our_test/original'\n",
    "file_names = [f for f in listdir(mypath) if isfile(join(mypath, f))]\n",
    "print(file_names)"
   ],
   "metadata": {
    "collapsed": false,
    "pycharm": {
     "name": "#%%\n"
    }
   }
  },
  {
   "cell_type": "code",
   "execution_count": 3,
   "outputs": [],
   "source": [
    "with open('Our_test/our_test_classes.txt', 'w') as dest_file:\n",
    "    for img_name in file_names:\n",
    "        img = cv2.imread('Our_test/original/' + img_name)\n",
    "        img_resized = cv2.resize(img, (224, 224))\n",
    "        cv2.imwrite('Our_test/resized/' + img_name.split('.')[0] + '.png', img_resized)\n",
    "        if 'tamp' in img_name:\n",
    "            dest_file.write(img_name.split('.')[0] + '.png\\t1\\n')\n",
    "        else:\n",
    "            dest_file.write(img_name.split('.')[0] + '.png\\t0\\n')\n",
    "\n",
    "dest_file.close()"
   ],
   "metadata": {
    "collapsed": false,
    "pycharm": {
     "name": "#%%\n"
    }
   }
  },
  {
   "cell_type": "code",
   "execution_count": null,
   "outputs": [],
   "source": [],
   "metadata": {
    "collapsed": false,
    "pycharm": {
     "name": "#%%\n"
    }
   }
  }
 ],
 "metadata": {
  "kernelspec": {
   "display_name": "Python 3",
   "language": "python",
   "name": "python3"
  },
  "language_info": {
   "codemirror_mode": {
    "name": "ipython",
    "version": 2
   },
   "file_extension": ".py",
   "mimetype": "text/x-python",
   "name": "python",
   "nbconvert_exporter": "python",
   "pygments_lexer": "ipython2",
   "version": "2.7.6"
  }
 },
 "nbformat": 4,
 "nbformat_minor": 0
}