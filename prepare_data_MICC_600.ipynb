{
 "cells": [
  {
   "cell_type": "code",
   "execution_count": 1,
   "outputs": [],
   "source": [
    "import cv2\n",
    "import matplotlib.pyplot as plt\n",
    "\n",
    "%matplotlib inline"
   ],
   "metadata": {
    "collapsed": false,
    "pycharm": {
     "name": "#%%\n"
    }
   }
  },
  {
   "cell_type": "code",
   "execution_count": 3,
   "outputs": [
    {
     "name": "stdout",
     "output_type": "stream",
     "text": [
      "['_r30_s1200extension_gt.png', 'DSC_0141_scale.jpg', 'beach_wood.png', 'horses.png', '00005_scale.jpg', 'IMG_2221_scale.jpg', 'DSCF0064_scale.jpg', 'four_babies_gt.png', 'sails.png', '00007_scale.jpg', '_r30motorcycle_gt.png', 'DSC_0112_scale.jpg', '_r30_s1200sailing.png', 'DSC_0106_01_scale.jpg', 'DCAM0188_scale.jpg', 'DSC_0138_scale.jpg', '_r30sails_gt.png', '_r30_s1200kore_gt.png', 'erlangen12.png', 'DSC_0094_01_scale.jpg', 'tapestry_gt.png', '_r30wading.png', 'DSCF0222_scale.jpg', 'erlangen16.png', 'DSCF0220_scale.jpg', 'erlangen15.png', 'DSC_0153_scale.jpg', '_r30motorcycle.png', 'clean_walls.png', 'hedge_multiple_gt.png', 'erlangen19.png', 'brasimone009_scale.jpg', 'giraffe_multiple_gt.png', 'DSC_0067_scale.jpg', 'supermarket_gt.png', 'IMG_2140_scale.jpg', 'DSC01203_scale.jpg', '_r30_s1200wood_carvings_gt.png', 'P3260056_scale.jpg', 'DSC_0015_01_scale.jpg', 'DSCF0270_scale.jpg', '_r30_s1200fountain.png', 'DSC_0140_scale.jpg', 'noise_pattern_multiple.png', '_r30wood_carvings_gt.png', 'horses_multiple_gt.png', '_r30sailing.png', 'fisherman_gt.png', 'DSC_0097_01_scale.jpg', 'DSC_0039_01_scale.jpg', '_r30tree.png', 'DSC_0100_01_scale.jpg', '_r30_s1200beach_wood_gt.png', 'four_babies_multiple_gt.png', 'DSC_0121_scale.jpg', 'P7030175_scale.jpg', 'IMG_2519_scale.jpg', '_r30fisherman.png', 'DSC_0109_scale.jpg', 'DSC_0107_scale.jpg', '00012_scale.jpg', '_r30_s1200statue.png', 'IMG_2313_scale.jpg', 'DSC_0121_01_scale.jpg', 'P1020819_scale.jpg', 'kore.png', 'DSC_0053_01_scale.jpg', 'IMG_2414_scale.jpg', 'statue.png', '_r30central_park_gt.png', 'DSC_0098_01_scale.jpg', 'P7110079_scale.jpg', '_r30_s1200swan_gt.png', 'IMG_2463_scale.jpg', 'IMG_2604_scale.jpg', 'berries_multiple.png', 'DSC_0117_01_scale.jpg', '_r30_s1200egyptian_gt.png', 'IMG_2360_scale.jpg', 'DSC_0052_01_scale.jpg', '_r30window.png', 'DSC_0005_01_scale.jpg', 'erlangen24.png', 'DSC_0014_01_scale.jpg', 'IMG_2607_scale.jpg', 'erlangen8.png', 'erlangen3.png', 'DSC01626_scale.jpg', '_r30lone_cat_gt.png', 'writing_history.png', '_r30four_babies_gt.png', 'DSC_0123_scale.jpg', 'DSC_0083_scale.jpg', 'IMG_2597_scale.jpg', '00007_2_scale.jpg', 'ship_gt.png', 'stone_ghost_multiple_gt.png', 'fountain_gt.png', '00035_scale.jpg', '_r30clean_walls.png', '00018_2_scale.jpg', 'DSC_0103_scale.jpg', '_r30knight_moves.png', 'IMG_2220_scale.jpg', 'DSCF0269_scale.jpg', 'IMG_2573_scale.jpg', 'DSC_0102_01_scale.jpg', 'erlangen1.png', '_r30_s1200supermarket_gt.png', 'DSC01199_scale.jpg', 'mask.png', 'beach_wood_multiple_gt.png', 'DSC_0070_scale.jpg', 'DSCF0279_scale.jpg', 'IMG_2240_scale.jpg', 'P7160111_scale.jpg', 'IMG_2449_scale.jpg', 'erlangen18.png', 'DSC01207_scale.jpg', 'central_park.png', 'DSC_0090_01_scale.jpg', 'DSC_0128_01_scale.jpg', 'fountain_multiple_gt.png', 'DSC01192_scale.jpg', 'DSC_0023_01_scale.jpg', 'swan.png', 'window_multiple_gt.png', 'DSC01185_scale.jpg', '_r30_s1200central_park_gt.png', 'statue_gt.png', '_r30_s1200dark_and_bright.png', 'DSC01188_scale.jpg', 'hedge_multiple.png', 'DSC_0120_scale.jpg', '00034_scale.jpg', 'malawi_multiple.png', '_r30hedge_gt.png', 'extension.png', 'DSC_0103_01_scale.jpg', '_r30_s1200sails.png', 'erlangen29.png', 'DSC_0002_01_scale.jpg', 'DCAM0502_scale.jpg', 'DSC_0024_01_scale.jpg', '_r30lone_cat.png', 'DSC_0032_01_scale.jpg', 'erlangen10.png', 'IMG_2333_scale.jpg', '_r30noise_pattern.png', '_r30_s1200ship_gt.png', 'IMG_2391_scale.jpg', '_r30_s1200egyptian.png', 'DSC01187_scale.jpg', 'DSCF0278_scale.jpg', 'erlangen32.png', 'DSC_0031_01_scale.jpg', '00006_2_scale.jpg', '_r30horses_gt.png', 'DSC_0003_01_scale.jpg', 'IMG_2328_scale.jpg', 'IMG_2197_scale.jpg', 'P7150092_scale.jpg', 'DSCF0177_scale.jpg', 'DSC01180_scale.jpg', 'DSC_0146_01_scale.jpg', 'egyptian_multiple_gt.png', '_r30writing_history.png', '_r30_s1200disconnected_shift_gt.png', 'IMG_2201_scale.jpg', 'erlangen38.png', 'central_park_multiple.png', 'dark_and_bright.png', 'P7160123_scale.jpg', 'DCAM0202_scale.jpg', 'mask_multiple.png', 'noise_pattern_multiple_gt.png', 'DSC_0046_01_scale.jpg', 'DSC_0036_01_scale.jpg', '_r30_s1200motorcycle_gt.png', 'DSC_0111_01_scale.jpg', 'DSC_0116_scale.jpg', 'disconnected_shift.png', 'sweets_multiple_gt.png', 'P1020813_scale.jpg', '_r30fountain_gt.png', 'DSCF0044_scale.jpg', '_r30giraffe_gt.png', 'sails_multiple_gt.png', '_r30_s1200malawi.png', 'DSC_0007_01_scale.jpg', 'DSC_0081_scale.jpg', 'IMG_2262_scale.jpg', 'DSC_0134_scale.jpg', '_r30jellyfish_chaos.png', 'DSC01178_scale.jpg', 'DSC_0077_scale.jpg', 'erlangen30.png', 'dark_and_bright_multiple_gt.png', 'DSC_0080_01_scale.jpg', '_r30sweets.png', '_r30wading_gt.png', '_r30extension.png', 'erlangen2.png', 'P7030219_scale.jpg', 'motorcycle_gt.png', 'supermarket_multiple_gt.png', 'extension_multiple_gt.png', 'DSC_0055_01_scale.jpg', '_r30_s1200knight_moves_gt.png', 'red_tower_gt.png', 'P7030182_scale.jpg', 'DSC_0148_01_scale.jpg', 'DSC_0151_01_scale.jpg', '_r30berries.png', 'IMG_2611_scale.jpg', 'DSC_0104_01_scale.jpg', '_r30_s1200mask_gt.png', '00014_2_scale.jpg', 'fisherman_multiple.png', 'DSC_0090_scale.jpg', 'DSC_0048_01_scale.jpg', 'ship_multiple_gt.png', 'DSC_0073_01_scale.jpg', '_r30_s1200fisherman_gt.png', 'DSCF0670_scale.jpg', 'DSC_0047_01_scale.jpg', 'ship_multiple.png', 'DSC_0037_01_scale.jpg', 'dark_and_bright_multiple.png', 'IMG_2635_scale.jpg', 'erlangen22.png', 'four_babies.png', '_r30_s1200tree_gt.png', 'IMG_2536_scale.jpg', 'DSC_0129_01_scale.jpg', 'DSC_0110_01_scale.jpg', 'statue_multiple_gt.png', 'DSC_0115_scale.jpg', 'erlangen21.png', 'DSC_0127_01_scale.jpg', 'P7110082_scale.jpg', 'jellyfish_chaos_gt.png', '_r30_s1200red_tower_gt.png', '_r30sailing_gt.png', 'DSC_0085_01_scale.jpg', 'DSC_0088_01_scale.jpg', '00001_scale.jpg', 'DSC_0132_scale.jpg', 'erlangen9.png', 'DSC01194_scale.jpg', '_r30kore.png', '00014_scale.jpg', 'IMG_2144_scale.jpg', '_r30_s1200hedge_gt.png', 'IMG_2143_scale.jpg', 'kore_gt.png', 'DSC01198_scale.jpg', 'DSC_0135_scale.jpg', 'erlangen25.png', '00012_2_scale.jpg', 'DSC_0070_01_scale.jpg', 'red_tower_multiple_gt.png', '_r30_s1200wood_carvings.png', 'P7110196_scale.jpg', 'tapestry.png', '00004_2_scale.jpg', 'IMG_2382_scale.jpg', '_r30berries_gt.png', 'mykene_multiple.png', 'sweets_gt.png', 'egyptian_multiple.png', '00016_scale.jpg', '_r30_s1200clean_walls_gt.png', 'clean_walls_multiple.png', 'DSC_0049_01_scale.jpg', 'DSCF0243_scale.jpg', 'berries.png', 'IMG_2417_scale.jpg', '00006_scale.jpg', '_r30giraffe.png', '00016_2_scale.jpg', 'DSC_0083_01_scale.jpg', 'DSCF0259_scale.jpg', 'DSC_0142_scale.jpg', 'kore_multiple_gt.png', '_r30_s1200four_babies.png', 'DCAM0147_scale.jpg', 'P1020821_scale.jpg', '_r30_s1200window.png', '_r30_s1200hedge.png', 'jellyfish_chaos.png', 'P7160128_scale.jpg', '00033_2_scale.jpg', 'DSC_0030_01_scale.jpg', 'P7150093_scale.jpg', 'DSCF0218_scale.jpg', 'IMG_2163_scale.jpg', 'port_gt.png', 'IMG_2383_scale.jpg', 'DSC_0104_scale.jpg', '_r30sweets_gt.png', 'DSC01206_scale.jpg', 'DSCF0203_scale.jpg', 'DSC_0042_01_scale.jpg', 'DSC_0145_scale.jpg', 'erlangen26.png', '_r30ship.png', 'IMG_2554_scale.jpg', 'IMG_2421_scale.jpg', 'P1020818_scale.jpg', '_r30_s1200fisherman.png', '_r30_s1200central_park.png', 'IMG_2190_scale.jpg', 'disconnected_shift_multiple.png', 'port_multiple_gt.png', '_r30_s1200disconnected_shift.png', 'DSC_0149_01_scale.jpg', 'brasimone006_scale.jpg', 'DSC_0096_scale.jpg', '_r30malawi.png', 'lone_cat_multiple_gt.png', 'P7020160_scale.jpg', 'DSC_0011_01_scale.jpg', '_r30_s1200writing_history.png', 'beach_wood_gt.png', '00002_scale.jpg', 'port.png', 'threehundred_multiple_gt.png', 'P7020153_scale.jpg', '_r30red_tower.png', 'giraffe_multiple.png', 'DSC_0034_01_scale.jpg', 'DSC_0124_01_scale.jpg', 'DSC_0081_01_scale.jpg', 'DSC_0118_01_scale.jpg', '00010_scale.jpg', '_r30threehundred.png', '_r30hedge.png', 'DSC_0144_01_scale.jpg', 'DSCF0213_scale.jpg', 'DSC_0138_01_scale.jpg', 'erlangen5.png', 'DSC_0058_01_scale.jpg', 'mykene_multiple_gt.png', 'DSC_0043_01_scale.jpg', '_r30_s1200window_gt.png', 'DSC_0040_01_scale.jpg', 'writing_history_multiple_gt.png', 'brasimone003_scale.jpg', 'DSC_0019_01_scale.jpg', 'IMG_2568_scale.jpg', 'barrier_multiple.png', '_r30window_gt.png', 'P7030224_scale.jpg', 'window_gt.png', 'threehundred_multiple.png', '00032_scale.jpg', 'berries_multiple_gt.png', 'swan_multiple_gt.png', 'DSC_0069_scale.jpg', '_r30swan.png', '_r30_s1200extension.png', '00010_2_scale.jpg', 'wading_multiple_gt.png', '_r30_s1200fountain_gt.png', '00030_2_scale.jpg', 'threehundred.png', 'DSC_0084_01_scale.jpg', 'writing_history_multiple.png', 'lone_cat_multiple.png', 'erlangen40.png', 'DSCF0019_scale.jpg', '_r30mykene_gt.png', 'DSC_0096_01_scale.jpg', 'wading_gt.png', 'DSC_0105_scale.jpg', 'erlangen11.png', '_r30_s1200sailing_gt.png', 'fisherman.png', 'DSC_0078_scale.jpg', '_r30_s1200lone_cat_gt.png', 'IMG_2208_scale.jpg', 'DSCF0262_scale.jpg', 'tree_multiple.png', 'supermarket.png', 'erlangen7.png', 'DSCF0035_scale.jpg', 'IMG_2539_scale.jpg', 'window_multiple.png', 'mykene_gt.png', 'P7030187_scale.jpg', '_r30_s1200stone_ghost.png', 'erlangen4.png', 'sweets.png', 'IMG_2151_scale.jpg', '00013_2_scale.jpg', 'clean_walls_gt.png', 'IMG_2605_scale.jpg', 'IMG_2620_scale.jpg', 'DSC01193_scale.jpg', '_r30noise_pattern_gt.png', 'DSC_0149_scale.jpg', 'DSC_0119_scale.jpg', '_r30_s1200red_tower.png', '_r30supermarket_gt.png', 'IMG_2513_scale.jpg', 'DSCF0244_scale.jpg', 'IMG_2395_scale.jpg', 'DSC_0140_01_scale.jpg', 'DSC_0045_01_scale.jpg', 'DSC_0133_01_scale.jpg', 'DSC_0108_01_scale.jpg', '_r30jellyfish_chaos_gt.png', 'IMG_2504_scale.jpg', 'IMG_2630_scale.jpg', 'clean_walls_multiple_gt.png', 'DSCF0202_scale.jpg', 'DSC01196_scale.jpg', 'statue_multiple.png', '_r30kore_gt.png', '_r30clean_walls_gt.png', 'P7290459_scale.jpg', 'egyptian_gt.png', 'DSC_0017_01_scale.jpg', 'DCAM0024_scale.jpg', 'DSC_0124_scale.jpg', '_r30knight_moves_gt.png', 'IMG_2543_scale.jpg', 'horses_gt.png', 'DSCF0272_scale.jpg', 'DSCF0216_scale.jpg', '_r30_s1200giraffe.png', '_r30_s1200ship.png', '_r30_s1200mask.png', 'tree_gt.png', 'IMG_2192_scale.jpg', 'DSCF0258_scale.jpg', '_r30_s1200sweets.png', 'P7010129_scale.jpg', 'DSC_0051_01_scale.jpg', 'DSC_0018_01_scale.jpg', 'IMG_2512_scale.jpg', 'DSC_0066_01_scale.jpg', '_r30_s1200lone_cat.png', 'DSC_0075_01_scale.jpg', 'IMG_2230_scale.jpg', 'DSC_0077_01_scale.jpg', 'erlangen37.png', 'DSC_0127_scale.jpg', 'P7030222_scale.jpg', 'IMG_2582_scale.jpg', '_r30four_babies.png', 'DSC_0141_01_scale.jpg', 'erlangen39.png', 'central_park_gt.png', 'DSC_0136_01_scale.jpg', 'lone_cat.png', '_r30port.png', 'mykene.png', 'tree_multiple_gt.png', '_r30beach_wood_gt.png', 'DSC01204_scale.jpg', 'erlangen14.png', '_r30_s1200writing_history_gt.png', '00011_2_scale.jpg', 'disconnected_shift_gt.png', 'IMG_2295_scale.jpg', '_r30tree_gt.png', 'DSCF0021_scale.jpg', 'DSC_0143_scale.jpg', '_r30_s1200berries_gt.png', 'DSC_0097_scale.jpg', '_r30_s1200beach_wood.png', 'DSCF0201_scale.jpg', 'DSC_0022_scale.jpg', 'DSC_0123_01_scale.jpg', 'DSC_0106_scale.jpg', '_r30ship_gt.png', '_r30_s1200tapestry_gt.png', 'IMG_2502_scale.jpg', '_r30_s1200motorcycle.png', 'P7160127_scale.jpg', '_r30_s1200port.png', 'knight_moves_gt.png', '_r30central_park.png', '00033_scale.jpg', '_r30_s1200horses_gt.png', 'DSC_0013_01_scale.jpg', 'DSC_0142_01_scale.jpg', 'DSC_0050_01_scale.jpg', 'IMG_2185_scale.jpg', 'knight_moves_multiple_gt.png', '_r30_s1200wading.png', '_r30horses.png', 'erlangen23.png', 'DSC_0110_scale.jpg', 'malawi.png', 'IMG_2310_scale.jpg', '00009_scale.jpg', '_r30stone_ghost_gt.png', 'hedge.png', '_r30tapestry.png', 'brasimone008_scale.jpg', 'DSCF0227_scale.jpg', 'window.png', 'port_multiple.png', '00017_2_scale.jpg', 'erlangen33.png', 'extension_multiple.png', 'P1020817_scale.jpg', 'stone_ghost_multiple.png', 'DSC_0076_scale.jpg', '_r30_s1200jellyfish_chaos.png', 'DSC_0137_scale.jpg', 'IMG_2207_scale.jpg', 'erlangen31.png', '_r30_s1200giraffe_gt.png', '00032_2_scale.jpg', '_r30mask.png', 'erlangen6.png', 'DSC01201_scale.jpg', 'IMG_2203_scale.jpg', '_r30_s1200noise_pattern_gt.png', 'motorcycle_multi.png', '_r30stone_ghost.png', 'icvss0839_scale.jpg', 'IMG_2178_scale.jpg', '_r30_s1200clean_walls.png', 'erlangen34.png', 'mask_multiple_gt.png', 'IMG_2336_scale.jpg', '_r30_s1200knight_moves.png', '00031_2_scale.jpg', 'tree.png', 'DSC_0107_01_scale.jpg', 'malawi_multiple_gt.png', 'DSC_0101_01_scale.jpg', 'DSC_0095_01_scale.jpg', 'erlangen36.png', 'IMG_2516_scale.jpg', 'DSC_0091_01_scale.jpg', 'P7110171_scale.jpg', 'knight_moves.png', '_r30mykene.png', 'IMG_2161_scale.jpg', '_r30statue.png', '00017_scale.jpg', 'erlangen35.png', '_r30_s1200noise_pattern.png', '_r30sails.png', 'mask_gt.png', '_r30_s1200wading_gt.png', 'DSCF0223_scale.jpg', 'DSC_0033_scale.jpg', 'stone_ghost_gt.png', 'brasimone005_scale.jpg', 'DSC_0021_01_scale.jpg', 'DSC01186_scale.jpg', '_r30statue_gt.png', 'erlangen20.png', 'DSC_0152_scale.jpg', 'IMG_2255_scale.jpg', 'IMG_2511_scale.jpg', '_r30egyptian.png', '_r30_s1200swan.png', 'erlangen13.png', 'erlangen17.png', 'sailing.png', 'IMG_2569_scale.jpg', 'DSC_0065_01_scale.jpg', 'DSC_0131_scale.jpg', 'sailing_gt.png', 'DSC_0150_scale.jpg', '_r30_s1200malawi_gt.png', 'IMG_2617_scale.jpg', '_r30supermarket.png', 'kore_multiple.png', 'brasimone007_scale.jpg', 'DSC_0004_01_scale.jpg', '_r30red_tower_gt.png', '_r30_s1200kore.png', 'DSCF0166_scale.jpg', '_r30mask_gt.png', 'DSCF0132_scale.jpg', 'DSC01195_scale.jpg', 'motorcycle.png', 'swan_gt.png', 'DSC_0115_01_scale.jpg', 'noise_pattern.png', 'DSC_0016_01_scale.jpg', '_r30_s1200tree.png', '_r30_s1200statue_gt.png', 'DSCF0263_scale.jpg', 'IMG_2226_scale.jpg', '_r30_s1200mykene_gt.png', 'erlangen28.png', '_r30_s1200horses.png', 'DSC_0153_01_scale.jpg', 'P7020152_scale.jpg', '00004_scale.jpg', '_r30egyptian_gt.png', '00003_scale.jpg', 'hedge_gt.png', '_r30extension_gt.png', 'IMG_2619_scale.jpg', 'DSCF0170_scale.jpg', 'wood_carvings_multiple.png', 'DSC_0082_01_scale.jpg', 'IMG_2540_scale.jpg', 'IMG_2191_scale.jpg', 'DSC_0148_scale.jpg', 'four_babies_multiple.png', 'DSC_0128_scale.jpg', 'IMG_2407_scale.jpg', 'fountain_multiple.png', 'DSC_0093_01_scale.jpg', 'central_park_multiple_gt.png', 'P7160117_scale.jpg', 'extension_gt.png', 'red_tower.png', 'DSC_0145_01_scale.jpg', '_r30threehundred_gt.png', 'P7050226_scale.jpg', 'DSC_0113_scale.jpg', 'egyptian.png', 'IMG_2364_scale.jpg', 'wading.png', 'P6300116_scale.jpg', '_r30writing_history_gt.png', 'wood_carvings.png', '_r30_s1200threehundred_gt.png', 'IMG_2268_scale.jpg', 'DSC01177_scale.jpg', 'IMG_2373_scale.jpg', '_r30disconnected_shift_gt.png', 'disconnected_shift_multiple_gt.png', 'DSC_0112_01_scale.jpg', 'red_tower_multiple.png', 'DSC_0111_scale.jpg', 'motorcycle_multi_gt.png', 'DSCF0207_scale.jpg', 'P1020815_scale.jpg', 'P7020149_scale.jpg', 'IMG_2591_scale.jpg', '_r30_s1200sweets_gt.png', 'sails_multiple.png', 'DSC_0129_scale.jpg', 'sweets_multiple.png', 'DSC_0020_scale.jpg', 'writing_history_gt.png', '_r30dark_and_bright.png', 'fountain.png', '_r30_s1200mykene.png', 'DSC_0099_scale.jpg', '_r30_s1200port_gt.png', 'P1020820_scale.jpg', '00009_2_scale.jpg', 'sails_gt.png', 'DSC_0082_scale.jpg', 'erlangen27.png', 'threehundred_gt.png', 'DSC_0092_01_scale.jpg', 'fisherman_multiple_gt.png', 'DSCF0280_scale.jpg', 'DSC_0108_scale.jpg', 'berries_gt.png', 'wading_multiple.png', 'brasimone002_scale.jpg', 'DSCF0219_scale.jpg', 'IMG_2394_scale.jpg', 'DSC_0130_scale.jpg', 'DSC_0038_01_scale.jpg', '_r30swan_gt.png', '_r30_s1200dark_and_bright_gt.png', 'lone_cat_gt.png', '_r30_s1200sails_gt.png', '_r30disconnected_shift.png', '_r30fisherman_gt.png', 'dark_and_bright_gt.png', '_r30_s1200stone_ghost_gt.png', 'DSCF0204_scale.jpg', 'DSC_0089_01_scale.jpg', 'DSC_0044_01_scale.jpg', 'DSC01202_scale.jpg', 'DSC_0067_01_scale.jpg', '_r30dark_and_bright_gt.png', 'wood_carvings_gt.png', '00005_2_scale.jpg', 'DSC_0126_scale.jpg', 'stone_ghost.png', 'DSC_0087_01_scale.jpg', 'P7030206_scale.jpg', 'malawi_gt.png', 'ship.png', 'P6300109_scale.jpg', 'DSC_0139_scale.jpg', 'DSCF0264_scale.jpg', 'DSC_0125_scale.jpg', 'DSC01197_scale.jpg', 'icvss0843_scale.jpg', 'DSC_0146_scale.jpg', 'sailing_multiple.png', 'IMG_2252_scale.jpg', 'IMG_2636_scale.jpg', 'P6300125_scale.jpg', 'DSC_0143_01_scale.jpg', '_r30_s1200four_babies_gt.png', 'swan_multiple.png', 'giraffe_gt.png', '_r30fountain.png', 'DCAM0158_scale.jpg', 'DSC_0079_scale.jpg', 'DSC_0136_scale.jpg', 'DSCF0164_scale.jpg', 'knight_moves_multiple.png', 'IMG_2495_scale.jpg', '00003_2_scale.jpg', 'DSC_0064_01_scale.jpg', 'DSC_0063_01_scale.jpg', 'IMG_2505_scale.jpg', 'DSC_0131_01_scale.jpg', 'IMG_2202_scale.jpg', 'jellyfish_chaos_multiple.png', 'DSCF0277_scale.jpg', '_r30_s1200jellyfish_chaos_gt.png', 'DSCF0230_scale.jpg', '_r30port_gt.png', 'horses_multiple.png', '_r30beach_wood.png', 'P3270318_scale.jpg', '_r30_s1200supermarket.png', 'giraffe.png', 'DSCF0200_scale.jpg', 'beach_wood_multiple.png', 'P1020812_scale.jpg', '_r30_s1200threehundred.png', 'barrier_multiple_gt.png', 'sailing_multiple_gt.png', 'P7020151_scale.jpg', '00001_2_scale.jpg', 'supermarket_multiple.png', 'DSC_0091_scale.jpg', 'DSC01640_scale.jpg', 'DSC_0069_01_scale.jpg', 'P7020161_scale.jpg', 'DSC01627_scale.jpg', 'DSC_0078_01_scale.jpg', 'noise_pattern_gt.png', '_r30wood_carvings.png', '_r30_s1200berries.png', '_r30tapestry_gt.png', 'DSC_0035_01_scale.jpg', 'DSC_0068_scale.jpg', 'IMG_2222_scale.jpg', 'DSCF0211_scale.jpg', 'DSC_0125_01_scale.jpg', 'jellyfish_chaos_multiple_gt.png', 'wood_carvings_multiple_gt.png', '_r30_s1200tapestry.png', '_r30malawi_gt.png']\n"
     ]
    }
   ],
   "source": [
    "from os import listdir\n",
    "from os.path import isfile, join\n",
    "\n",
    "mypath = 'MICC-F600/original'\n",
    "file_names = [f for f in listdir(mypath) if isfile(join(mypath, f))]\n",
    "print(file_names)"
   ],
   "metadata": {
    "collapsed": false,
    "pycharm": {
     "name": "#%%\n"
    }
   }
  },
  {
   "cell_type": "code",
   "execution_count": 19,
   "outputs": [
    {
     "name": "stdout",
     "output_type": "stream",
     "text": [
      "['DSC_0141_scale.jpg', 'beach_wood.png', 'horses.png', '00005_scale.jpg', 'IMG_2221_scale.jpg', 'DSCF0064_scale.jpg', 'sails.png', '00007_scale.jpg', 'DSC_0112_scale.jpg', '_r30_s1200sailing.png', 'DSC_0106_01_scale.jpg', 'DCAM0188_scale.jpg', 'DSC_0138_scale.jpg', 'erlangen12.png', 'DSC_0094_01_scale.jpg', '_r30wading.png', 'DSCF0222_scale.jpg', 'erlangen16.png', 'DSCF0220_scale.jpg', 'erlangen15.png', 'DSC_0153_scale.jpg', '_r30motorcycle.png', 'clean_walls.png', 'erlangen19.png', 'brasimone009_scale.jpg', 'DSC_0067_scale.jpg', 'IMG_2140_scale.jpg', 'DSC01203_scale.jpg', 'P3260056_scale.jpg', 'DSC_0015_01_scale.jpg', 'DSCF0270_scale.jpg', '_r30_s1200fountain.png', 'DSC_0140_scale.jpg', 'noise_pattern_multiple.png', '_r30sailing.png', 'DSC_0097_01_scale.jpg', 'DSC_0039_01_scale.jpg', '_r30tree.png', 'DSC_0100_01_scale.jpg', 'DSC_0121_scale.jpg', 'P7030175_scale.jpg', 'IMG_2519_scale.jpg', '_r30fisherman.png', 'DSC_0109_scale.jpg', 'DSC_0107_scale.jpg', '00012_scale.jpg', '_r30_s1200statue.png', 'IMG_2313_scale.jpg', 'DSC_0121_01_scale.jpg', 'P1020819_scale.jpg', 'kore.png', 'DSC_0053_01_scale.jpg', 'IMG_2414_scale.jpg', 'statue.png', 'DSC_0098_01_scale.jpg', 'P7110079_scale.jpg', 'IMG_2463_scale.jpg', 'IMG_2604_scale.jpg', 'berries_multiple.png', 'DSC_0117_01_scale.jpg', 'IMG_2360_scale.jpg', 'DSC_0052_01_scale.jpg', '_r30window.png', 'DSC_0005_01_scale.jpg', 'erlangen24.png', 'DSC_0014_01_scale.jpg', 'IMG_2607_scale.jpg', 'erlangen8.png', 'erlangen3.png', 'DSC01626_scale.jpg', 'writing_history.png', 'DSC_0123_scale.jpg', 'DSC_0083_scale.jpg', 'IMG_2597_scale.jpg', '00007_2_scale.jpg', '00035_scale.jpg', '_r30clean_walls.png', '00018_2_scale.jpg', 'DSC_0103_scale.jpg', '_r30knight_moves.png', 'IMG_2220_scale.jpg', 'DSCF0269_scale.jpg', 'IMG_2573_scale.jpg', 'DSC_0102_01_scale.jpg', 'erlangen1.png', 'DSC01199_scale.jpg', 'mask.png', 'DSC_0070_scale.jpg', 'DSCF0279_scale.jpg', 'IMG_2240_scale.jpg', 'P7160111_scale.jpg', 'IMG_2449_scale.jpg', 'erlangen18.png', 'DSC01207_scale.jpg', 'central_park.png', 'DSC_0090_01_scale.jpg', 'DSC_0128_01_scale.jpg', 'DSC01192_scale.jpg', 'DSC_0023_01_scale.jpg', 'swan.png', 'DSC01185_scale.jpg', '_r30_s1200dark_and_bright.png', 'DSC01188_scale.jpg', 'hedge_multiple.png', 'DSC_0120_scale.jpg', '00034_scale.jpg', 'malawi_multiple.png', 'extension.png', 'DSC_0103_01_scale.jpg', '_r30_s1200sails.png', 'erlangen29.png', 'DSC_0002_01_scale.jpg', 'DCAM0502_scale.jpg', 'DSC_0024_01_scale.jpg', '_r30lone_cat.png', 'DSC_0032_01_scale.jpg', 'erlangen10.png', 'IMG_2333_scale.jpg', '_r30noise_pattern.png', 'IMG_2391_scale.jpg', '_r30_s1200egyptian.png', 'DSC01187_scale.jpg', 'DSCF0278_scale.jpg', 'erlangen32.png', 'DSC_0031_01_scale.jpg', '00006_2_scale.jpg', 'DSC_0003_01_scale.jpg', 'IMG_2328_scale.jpg', 'IMG_2197_scale.jpg', 'P7150092_scale.jpg', 'DSCF0177_scale.jpg', 'DSC01180_scale.jpg', 'DSC_0146_01_scale.jpg', '_r30writing_history.png', 'IMG_2201_scale.jpg', 'erlangen38.png', 'central_park_multiple.png', 'dark_and_bright.png', 'P7160123_scale.jpg', 'DCAM0202_scale.jpg', 'mask_multiple.png', 'DSC_0046_01_scale.jpg', 'DSC_0036_01_scale.jpg', 'DSC_0111_01_scale.jpg', 'DSC_0116_scale.jpg', 'disconnected_shift.png', 'P1020813_scale.jpg', 'DSCF0044_scale.jpg', '_r30_s1200malawi.png', 'DSC_0007_01_scale.jpg', 'DSC_0081_scale.jpg', 'IMG_2262_scale.jpg', 'DSC_0134_scale.jpg', '_r30jellyfish_chaos.png', 'DSC01178_scale.jpg', 'DSC_0077_scale.jpg', 'erlangen30.png', 'DSC_0080_01_scale.jpg', '_r30sweets.png', '_r30extension.png', 'erlangen2.png', 'P7030219_scale.jpg', 'DSC_0055_01_scale.jpg', 'P7030182_scale.jpg', 'DSC_0148_01_scale.jpg', 'DSC_0151_01_scale.jpg', '_r30berries.png', 'IMG_2611_scale.jpg', 'DSC_0104_01_scale.jpg', '00014_2_scale.jpg', 'fisherman_multiple.png', 'DSC_0090_scale.jpg', 'DSC_0048_01_scale.jpg', 'DSC_0073_01_scale.jpg', 'DSCF0670_scale.jpg', 'DSC_0047_01_scale.jpg', 'ship_multiple.png', 'DSC_0037_01_scale.jpg', 'dark_and_bright_multiple.png', 'IMG_2635_scale.jpg', 'erlangen22.png', 'four_babies.png', 'IMG_2536_scale.jpg', 'DSC_0129_01_scale.jpg', 'DSC_0110_01_scale.jpg', 'DSC_0115_scale.jpg', 'erlangen21.png', 'DSC_0127_01_scale.jpg', 'P7110082_scale.jpg', 'DSC_0085_01_scale.jpg', 'DSC_0088_01_scale.jpg', '00001_scale.jpg', 'DSC_0132_scale.jpg', 'erlangen9.png', 'DSC01194_scale.jpg', '_r30kore.png', '00014_scale.jpg', 'IMG_2144_scale.jpg', 'IMG_2143_scale.jpg', 'DSC01198_scale.jpg', 'DSC_0135_scale.jpg', 'erlangen25.png', '00012_2_scale.jpg', 'DSC_0070_01_scale.jpg', '_r30_s1200wood_carvings.png', 'P7110196_scale.jpg', 'tapestry.png', '00004_2_scale.jpg', 'IMG_2382_scale.jpg', 'mykene_multiple.png', 'egyptian_multiple.png', '00016_scale.jpg', 'clean_walls_multiple.png', 'DSC_0049_01_scale.jpg', 'DSCF0243_scale.jpg', 'berries.png', 'IMG_2417_scale.jpg', '00006_scale.jpg', '_r30giraffe.png', '00016_2_scale.jpg', 'DSC_0083_01_scale.jpg', 'DSCF0259_scale.jpg', 'DSC_0142_scale.jpg', '_r30_s1200four_babies.png', 'DCAM0147_scale.jpg', 'P1020821_scale.jpg', '_r30_s1200window.png', '_r30_s1200hedge.png', 'jellyfish_chaos.png', 'P7160128_scale.jpg', '00033_2_scale.jpg', 'DSC_0030_01_scale.jpg', 'P7150093_scale.jpg', 'DSCF0218_scale.jpg', 'IMG_2163_scale.jpg', 'IMG_2383_scale.jpg', 'DSC_0104_scale.jpg', 'DSC01206_scale.jpg', 'DSCF0203_scale.jpg', 'DSC_0042_01_scale.jpg', 'DSC_0145_scale.jpg', 'erlangen26.png', '_r30ship.png', 'IMG_2554_scale.jpg', 'IMG_2421_scale.jpg', 'P1020818_scale.jpg', '_r30_s1200fisherman.png', '_r30_s1200central_park.png', 'IMG_2190_scale.jpg', 'disconnected_shift_multiple.png', '_r30_s1200disconnected_shift.png', 'DSC_0149_01_scale.jpg', 'brasimone006_scale.jpg', 'DSC_0096_scale.jpg', '_r30malawi.png', 'P7020160_scale.jpg', 'DSC_0011_01_scale.jpg', '_r30_s1200writing_history.png', '00002_scale.jpg', 'port.png', 'P7020153_scale.jpg', '_r30red_tower.png', 'giraffe_multiple.png', 'DSC_0034_01_scale.jpg', 'DSC_0124_01_scale.jpg', 'DSC_0081_01_scale.jpg', 'DSC_0118_01_scale.jpg', '00010_scale.jpg', '_r30threehundred.png', '_r30hedge.png', 'DSC_0144_01_scale.jpg', 'DSCF0213_scale.jpg', 'DSC_0138_01_scale.jpg', 'erlangen5.png', 'DSC_0058_01_scale.jpg', 'DSC_0043_01_scale.jpg', 'DSC_0040_01_scale.jpg', 'brasimone003_scale.jpg', 'DSC_0019_01_scale.jpg', 'IMG_2568_scale.jpg', 'barrier_multiple.png', 'P7030224_scale.jpg', 'threehundred_multiple.png', '00032_scale.jpg', 'DSC_0069_scale.jpg', '_r30swan.png', '_r30_s1200extension.png', '00010_2_scale.jpg', '00030_2_scale.jpg', 'threehundred.png', 'DSC_0084_01_scale.jpg', 'writing_history_multiple.png', 'lone_cat_multiple.png', 'erlangen40.png', 'DSCF0019_scale.jpg', 'DSC_0096_01_scale.jpg', 'DSC_0105_scale.jpg', 'erlangen11.png', 'fisherman.png', 'DSC_0078_scale.jpg', 'IMG_2208_scale.jpg', 'DSCF0262_scale.jpg', 'tree_multiple.png', 'supermarket.png', 'erlangen7.png', 'DSCF0035_scale.jpg', 'IMG_2539_scale.jpg', 'window_multiple.png', 'P7030187_scale.jpg', '_r30_s1200stone_ghost.png', 'erlangen4.png', 'sweets.png', 'IMG_2151_scale.jpg', '00013_2_scale.jpg', 'IMG_2605_scale.jpg', 'IMG_2620_scale.jpg', 'DSC01193_scale.jpg', 'DSC_0149_scale.jpg', 'DSC_0119_scale.jpg', '_r30_s1200red_tower.png', 'IMG_2513_scale.jpg', 'DSCF0244_scale.jpg', 'IMG_2395_scale.jpg', 'DSC_0140_01_scale.jpg', 'DSC_0045_01_scale.jpg', 'DSC_0133_01_scale.jpg', 'DSC_0108_01_scale.jpg', 'IMG_2504_scale.jpg', 'IMG_2630_scale.jpg', 'DSCF0202_scale.jpg', 'DSC01196_scale.jpg', 'statue_multiple.png', 'P7290459_scale.jpg', 'DSC_0017_01_scale.jpg', 'DCAM0024_scale.jpg', 'DSC_0124_scale.jpg', 'IMG_2543_scale.jpg', 'DSCF0272_scale.jpg', 'DSCF0216_scale.jpg', '_r30_s1200giraffe.png', '_r30_s1200ship.png', '_r30_s1200mask.png', 'IMG_2192_scale.jpg', 'DSCF0258_scale.jpg', '_r30_s1200sweets.png', 'P7010129_scale.jpg', 'DSC_0051_01_scale.jpg', 'DSC_0018_01_scale.jpg', 'IMG_2512_scale.jpg', 'DSC_0066_01_scale.jpg', '_r30_s1200lone_cat.png', 'DSC_0075_01_scale.jpg', 'IMG_2230_scale.jpg', 'DSC_0077_01_scale.jpg', 'erlangen37.png', 'DSC_0127_scale.jpg', 'P7030222_scale.jpg', 'IMG_2582_scale.jpg', '_r30four_babies.png', 'DSC_0141_01_scale.jpg', 'erlangen39.png', 'DSC_0136_01_scale.jpg', 'lone_cat.png', '_r30port.png', 'mykene.png', 'DSC01204_scale.jpg', 'erlangen14.png', '00011_2_scale.jpg', 'IMG_2295_scale.jpg', 'DSCF0021_scale.jpg', 'DSC_0143_scale.jpg', 'DSC_0097_scale.jpg', '_r30_s1200beach_wood.png', 'DSCF0201_scale.jpg', 'DSC_0022_scale.jpg', 'DSC_0123_01_scale.jpg', 'DSC_0106_scale.jpg', 'IMG_2502_scale.jpg', '_r30_s1200motorcycle.png', 'P7160127_scale.jpg', '_r30_s1200port.png', '_r30central_park.png', '00033_scale.jpg', 'DSC_0013_01_scale.jpg', 'DSC_0142_01_scale.jpg', 'DSC_0050_01_scale.jpg', 'IMG_2185_scale.jpg', '_r30_s1200wading.png', '_r30horses.png', 'erlangen23.png', 'DSC_0110_scale.jpg', 'malawi.png', 'IMG_2310_scale.jpg', '00009_scale.jpg', 'hedge.png', '_r30tapestry.png', 'brasimone008_scale.jpg', 'DSCF0227_scale.jpg', 'window.png', 'port_multiple.png', '00017_2_scale.jpg', 'erlangen33.png', 'extension_multiple.png', 'P1020817_scale.jpg', 'stone_ghost_multiple.png', 'DSC_0076_scale.jpg', '_r30_s1200jellyfish_chaos.png', 'DSC_0137_scale.jpg', 'IMG_2207_scale.jpg', 'erlangen31.png', '00032_2_scale.jpg', '_r30mask.png', 'erlangen6.png', 'DSC01201_scale.jpg', 'IMG_2203_scale.jpg', 'motorcycle_multi.png', '_r30stone_ghost.png', 'icvss0839_scale.jpg', 'IMG_2178_scale.jpg', '_r30_s1200clean_walls.png', 'erlangen34.png', 'IMG_2336_scale.jpg', '_r30_s1200knight_moves.png', '00031_2_scale.jpg', 'tree.png', 'DSC_0107_01_scale.jpg', 'DSC_0101_01_scale.jpg', 'DSC_0095_01_scale.jpg', 'erlangen36.png', 'IMG_2516_scale.jpg', 'DSC_0091_01_scale.jpg', 'P7110171_scale.jpg', 'knight_moves.png', '_r30mykene.png', 'IMG_2161_scale.jpg', '_r30statue.png', '00017_scale.jpg', 'erlangen35.png', '_r30_s1200noise_pattern.png', '_r30sails.png', 'DSCF0223_scale.jpg', 'DSC_0033_scale.jpg', 'brasimone005_scale.jpg', 'DSC_0021_01_scale.jpg', 'DSC01186_scale.jpg', 'erlangen20.png', 'DSC_0152_scale.jpg', 'IMG_2255_scale.jpg', 'IMG_2511_scale.jpg', '_r30egyptian.png', '_r30_s1200swan.png', 'erlangen13.png', 'erlangen17.png', 'sailing.png', 'IMG_2569_scale.jpg', 'DSC_0065_01_scale.jpg', 'DSC_0131_scale.jpg', 'DSC_0150_scale.jpg', 'IMG_2617_scale.jpg', '_r30supermarket.png', 'kore_multiple.png', 'brasimone007_scale.jpg', 'DSC_0004_01_scale.jpg', '_r30_s1200kore.png', 'DSCF0166_scale.jpg', 'DSCF0132_scale.jpg', 'DSC01195_scale.jpg', 'motorcycle.png', 'DSC_0115_01_scale.jpg', 'noise_pattern.png', 'DSC_0016_01_scale.jpg', '_r30_s1200tree.png', 'DSCF0263_scale.jpg', 'IMG_2226_scale.jpg', 'erlangen28.png', '_r30_s1200horses.png', 'DSC_0153_01_scale.jpg', 'P7020152_scale.jpg', '00004_scale.jpg', '00003_scale.jpg', 'IMG_2619_scale.jpg', 'DSCF0170_scale.jpg', 'wood_carvings_multiple.png', 'DSC_0082_01_scale.jpg', 'IMG_2540_scale.jpg', 'IMG_2191_scale.jpg', 'DSC_0148_scale.jpg', 'four_babies_multiple.png', 'DSC_0128_scale.jpg', 'IMG_2407_scale.jpg', 'fountain_multiple.png', 'DSC_0093_01_scale.jpg', 'P7160117_scale.jpg', 'red_tower.png', 'DSC_0145_01_scale.jpg', 'P7050226_scale.jpg', 'DSC_0113_scale.jpg', 'egyptian.png', 'IMG_2364_scale.jpg', 'wading.png', 'P6300116_scale.jpg', 'wood_carvings.png', 'IMG_2268_scale.jpg', 'DSC01177_scale.jpg', 'IMG_2373_scale.jpg', 'DSC_0112_01_scale.jpg', 'red_tower_multiple.png', 'DSC_0111_scale.jpg', 'DSCF0207_scale.jpg', 'P1020815_scale.jpg', 'P7020149_scale.jpg', 'IMG_2591_scale.jpg', 'sails_multiple.png', 'DSC_0129_scale.jpg', 'sweets_multiple.png', 'DSC_0020_scale.jpg', '_r30dark_and_bright.png', 'fountain.png', '_r30_s1200mykene.png', 'DSC_0099_scale.jpg', 'P1020820_scale.jpg', '00009_2_scale.jpg', 'DSC_0082_scale.jpg', 'erlangen27.png', 'DSC_0092_01_scale.jpg', 'DSCF0280_scale.jpg', 'DSC_0108_scale.jpg', 'wading_multiple.png', 'brasimone002_scale.jpg', 'DSCF0219_scale.jpg', 'IMG_2394_scale.jpg', 'DSC_0130_scale.jpg', 'DSC_0038_01_scale.jpg', '_r30disconnected_shift.png', 'DSCF0204_scale.jpg', 'DSC_0089_01_scale.jpg', 'DSC_0044_01_scale.jpg', 'DSC01202_scale.jpg', 'DSC_0067_01_scale.jpg', '00005_2_scale.jpg', 'DSC_0126_scale.jpg', 'stone_ghost.png', 'DSC_0087_01_scale.jpg', 'P7030206_scale.jpg', 'ship.png', 'P6300109_scale.jpg', 'DSC_0139_scale.jpg', 'DSCF0264_scale.jpg', 'DSC_0125_scale.jpg', 'DSC01197_scale.jpg', 'icvss0843_scale.jpg', 'DSC_0146_scale.jpg', 'sailing_multiple.png', 'IMG_2252_scale.jpg', 'IMG_2636_scale.jpg', 'P6300125_scale.jpg', 'DSC_0143_01_scale.jpg', 'swan_multiple.png', '_r30fountain.png', 'DCAM0158_scale.jpg', 'DSC_0079_scale.jpg', 'DSC_0136_scale.jpg', 'DSCF0164_scale.jpg', 'knight_moves_multiple.png', 'IMG_2495_scale.jpg', '00003_2_scale.jpg', 'DSC_0064_01_scale.jpg', 'DSC_0063_01_scale.jpg', 'IMG_2505_scale.jpg', 'DSC_0131_01_scale.jpg', 'IMG_2202_scale.jpg', 'jellyfish_chaos_multiple.png', 'DSCF0277_scale.jpg', 'DSCF0230_scale.jpg', 'horses_multiple.png', '_r30beach_wood.png', 'P3270318_scale.jpg', '_r30_s1200supermarket.png', 'giraffe.png', 'DSCF0200_scale.jpg', 'beach_wood_multiple.png', 'P1020812_scale.jpg', '_r30_s1200threehundred.png', 'P7020151_scale.jpg', '00001_2_scale.jpg', 'supermarket_multiple.png', 'DSC_0091_scale.jpg', 'DSC01640_scale.jpg', 'DSC_0069_01_scale.jpg', 'P7020161_scale.jpg', 'DSC01627_scale.jpg', 'DSC_0078_01_scale.jpg', '_r30wood_carvings.png', '_r30_s1200berries.png', 'DSC_0035_01_scale.jpg', 'DSC_0068_scale.jpg', 'IMG_2222_scale.jpg', 'DSCF0211_scale.jpg', 'DSC_0125_01_scale.jpg', '_r30_s1200tapestry.png']\n"
     ]
    }
   ],
   "source": [
    "file_names_clear = []\n",
    "for name in file_names:\n",
    "    if '_gt.' not in name:\n",
    "        file_names_clear.append(name)\n",
    "\n",
    "print(file_names_clear)"
   ],
   "metadata": {
    "collapsed": false,
    "pycharm": {
     "name": "#%%\n"
    }
   }
  },
  {
   "cell_type": "code",
   "execution_count": 9,
   "outputs": [
    {
     "data": {
      "text/plain": "760"
     },
     "execution_count": 9,
     "metadata": {},
     "output_type": "execute_result"
    }
   ],
   "source": [
    "len(file_names)"
   ],
   "metadata": {
    "collapsed": false,
    "pycharm": {
     "name": "#%%\n"
    }
   }
  },
  {
   "cell_type": "code",
   "execution_count": 20,
   "outputs": [
    {
     "data": {
      "text/plain": "600"
     },
     "execution_count": 20,
     "metadata": {},
     "output_type": "execute_result"
    }
   ],
   "source": [
    "len(file_names_clear)"
   ],
   "metadata": {
    "collapsed": false,
    "pycharm": {
     "name": "#%%\n"
    }
   }
  },
  {
   "cell_type": "code",
   "execution_count": 13,
   "outputs": [],
   "source": [
    "with open('MICC-F600/micc_f600_classes.txt', 'w') as dest_file:\n",
    "    for img_name in file_names_clear:\n",
    "        img = cv2.imread('MICC-F600/original/' + img_name)\n",
    "        img_resized = cv2.resize(img, (224, 224))\n",
    "        cv2.imwrite('MICC-F600/resized/' + img_name.split('.')[0] + '.png', img_resized)\n",
    "        if 'scale' in img_name:\n",
    "            dest_file.write(img_name.split('.')[0] + '.png\\t0\\n')\n",
    "        else:\n",
    "            dest_file.write(img_name.split('.')[0] + '.png\\t1\\n')\n",
    "\n",
    "dest_file.close()"
   ],
   "metadata": {
    "collapsed": false,
    "pycharm": {
     "name": "#%%\n"
    }
   }
  },
  {
   "cell_type": "code",
   "execution_count": 14,
   "outputs": [],
   "source": [
    "scale = []\n",
    "tamp = []\n",
    "\n",
    "for img_name in file_names_clear:\n",
    "    if 'scale' in img_name:\n",
    "        scale.append(img_name)\n",
    "    else:\n",
    "        tamp.append(img_name)"
   ],
   "metadata": {
    "collapsed": false,
    "pycharm": {
     "name": "#%%\n"
    }
   }
  },
  {
   "cell_type": "code",
   "execution_count": 15,
   "outputs": [
    {
     "name": "stdout",
     "output_type": "stream",
     "text": [
      "400\n",
      "200\n"
     ]
    }
   ],
   "source": [
    "print(len(scale))\n",
    "print(len(tamp))"
   ],
   "metadata": {
    "collapsed": false,
    "pycharm": {
     "name": "#%%\n"
    }
   }
  },
  {
   "cell_type": "code",
   "execution_count": 17,
   "outputs": [
    {
     "name": "stdout",
     "output_type": "stream",
     "text": [
      "160\n",
      "['_r30_s1200extension_gt.png', 'four_babies_gt.png', '_r30motorcycle_gt.png', '_r30sails_gt.png', '_r30_s1200kore_gt.png', 'tapestry_gt.png', 'hedge_multiple_gt.png', 'giraffe_multiple_gt.png', 'supermarket_gt.png', '_r30_s1200wood_carvings_gt.png', '_r30wood_carvings_gt.png', 'horses_multiple_gt.png', 'fisherman_gt.png', '_r30_s1200beach_wood_gt.png', 'four_babies_multiple_gt.png', '_r30central_park_gt.png', '_r30_s1200swan_gt.png', '_r30_s1200egyptian_gt.png', '_r30lone_cat_gt.png', '_r30four_babies_gt.png', 'ship_gt.png', 'stone_ghost_multiple_gt.png', 'fountain_gt.png', '_r30_s1200supermarket_gt.png', 'beach_wood_multiple_gt.png', 'fountain_multiple_gt.png', 'window_multiple_gt.png', '_r30_s1200central_park_gt.png', 'statue_gt.png', '_r30hedge_gt.png', '_r30_s1200ship_gt.png', '_r30horses_gt.png', 'egyptian_multiple_gt.png', '_r30_s1200disconnected_shift_gt.png', 'noise_pattern_multiple_gt.png', '_r30_s1200motorcycle_gt.png', 'sweets_multiple_gt.png', '_r30fountain_gt.png', '_r30giraffe_gt.png', 'sails_multiple_gt.png', 'dark_and_bright_multiple_gt.png', '_r30wading_gt.png', 'motorcycle_gt.png', 'supermarket_multiple_gt.png', 'extension_multiple_gt.png', '_r30_s1200knight_moves_gt.png', 'red_tower_gt.png', '_r30_s1200mask_gt.png', 'ship_multiple_gt.png', '_r30_s1200fisherman_gt.png', '_r30_s1200tree_gt.png', 'statue_multiple_gt.png', 'jellyfish_chaos_gt.png', '_r30_s1200red_tower_gt.png', '_r30sailing_gt.png', '_r30_s1200hedge_gt.png', 'kore_gt.png', 'red_tower_multiple_gt.png', '_r30berries_gt.png', 'sweets_gt.png', '_r30_s1200clean_walls_gt.png', 'kore_multiple_gt.png', 'port_gt.png', '_r30sweets_gt.png', 'port_multiple_gt.png', 'lone_cat_multiple_gt.png', 'beach_wood_gt.png', 'threehundred_multiple_gt.png', 'mykene_multiple_gt.png', '_r30_s1200window_gt.png', 'writing_history_multiple_gt.png', '_r30window_gt.png', 'window_gt.png', 'berries_multiple_gt.png', 'swan_multiple_gt.png', 'wading_multiple_gt.png', '_r30_s1200fountain_gt.png', '_r30mykene_gt.png', 'wading_gt.png', '_r30_s1200sailing_gt.png', '_r30_s1200lone_cat_gt.png', 'mykene_gt.png', 'clean_walls_gt.png', '_r30noise_pattern_gt.png', '_r30supermarket_gt.png', '_r30jellyfish_chaos_gt.png', 'clean_walls_multiple_gt.png', '_r30kore_gt.png', '_r30clean_walls_gt.png', 'egyptian_gt.png', '_r30knight_moves_gt.png', 'horses_gt.png', 'tree_gt.png', 'central_park_gt.png', 'tree_multiple_gt.png', '_r30beach_wood_gt.png', '_r30_s1200writing_history_gt.png', 'disconnected_shift_gt.png', '_r30tree_gt.png', '_r30_s1200berries_gt.png', '_r30ship_gt.png', '_r30_s1200tapestry_gt.png', 'knight_moves_gt.png', '_r30_s1200horses_gt.png', 'knight_moves_multiple_gt.png', '_r30stone_ghost_gt.png', '_r30_s1200giraffe_gt.png', '_r30_s1200noise_pattern_gt.png', 'mask_multiple_gt.png', 'malawi_multiple_gt.png', 'mask_gt.png', '_r30_s1200wading_gt.png', 'stone_ghost_gt.png', '_r30statue_gt.png', 'sailing_gt.png', '_r30_s1200malawi_gt.png', '_r30red_tower_gt.png', '_r30mask_gt.png', 'swan_gt.png', '_r30_s1200statue_gt.png', '_r30_s1200mykene_gt.png', '_r30egyptian_gt.png', 'hedge_gt.png', '_r30extension_gt.png', 'central_park_multiple_gt.png', 'extension_gt.png', '_r30threehundred_gt.png', '_r30writing_history_gt.png', '_r30_s1200threehundred_gt.png', '_r30disconnected_shift_gt.png', 'disconnected_shift_multiple_gt.png', 'motorcycle_multi_gt.png', '_r30_s1200sweets_gt.png', 'writing_history_gt.png', '_r30_s1200port_gt.png', 'sails_gt.png', 'threehundred_gt.png', 'fisherman_multiple_gt.png', 'berries_gt.png', '_r30swan_gt.png', '_r30_s1200dark_and_bright_gt.png', 'lone_cat_gt.png', '_r30_s1200sails_gt.png', '_r30fisherman_gt.png', 'dark_and_bright_gt.png', '_r30_s1200stone_ghost_gt.png', '_r30dark_and_bright_gt.png', 'wood_carvings_gt.png', 'malawi_gt.png', '_r30_s1200four_babies_gt.png', 'giraffe_gt.png', '_r30_s1200jellyfish_chaos_gt.png', '_r30port_gt.png', 'barrier_multiple_gt.png', 'sailing_multiple_gt.png', 'noise_pattern_gt.png', '_r30tapestry_gt.png', 'jellyfish_chaos_multiple_gt.png', 'wood_carvings_multiple_gt.png', '_r30malawi_gt.png']\n"
     ]
    }
   ],
   "source": [
    "file_names_gt = []\n",
    "for name in file_names:\n",
    "    if '_gt.' in name:\n",
    "        file_names_gt.append(name)\n",
    "\n",
    "print(len(file_names_gt))\n",
    "print(file_names_gt)"
   ],
   "metadata": {
    "collapsed": false,
    "pycharm": {
     "name": "#%%\n"
    }
   }
  },
  {
   "cell_type": "code",
   "execution_count": 21,
   "outputs": [
    {
     "name": "stdout",
     "output_type": "stream",
     "text": [
      "['_r30_s1200extension.png', 'four_babies.png', '_r30motorcycle.png', '_r30sails.png', '_r30_s1200kore.png', 'tapestry.png', 'hedge_multiple.png', 'giraffe_multiple.png', 'supermarket.png', '_r30_s1200wood_carvings.png', '_r30wood_carvings.png', 'horses_multiple.png', 'fisherman.png', '_r30_s1200beach_wood.png', 'four_babies_multiple.png', '_r30central_park.png', '_r30_s1200swan.png', '_r30_s1200egyptian.png', '_r30lone_cat.png', '_r30four_babies.png', 'ship.png', 'stone_ghost_multiple.png', 'fountain.png', '_r30_s1200supermarket.png', 'beach_wood_multiple.png', 'fountain_multiple.png', 'window_multiple.png', '_r30_s1200central_park.png', 'statue.png', '_r30hedge.png', '_r30_s1200ship.png', '_r30horses.png', 'egyptian_multiple.png', '_r30_s1200disconnected_shift.png', 'noise_pattern_multiple.png', '_r30_s1200motorcycle.png', 'sweets_multiple.png', '_r30fountain.png', '_r30giraffe.png', 'sails_multiple.png', 'dark_and_bright_multiple.png', '_r30wading.png', 'motorcycle.png', 'supermarket_multiple.png', 'extension_multiple.png', '_r30_s1200knight_moves.png', 'red_tower.png', '_r30_s1200mask.png', 'ship_multiple.png', '_r30_s1200fisherman.png', '_r30_s1200tree.png', 'statue_multiple.png', 'jellyfish_chaos.png', '_r30_s1200red_tower.png', '_r30sailing.png', '_r30_s1200hedge.png', 'kore.png', 'red_tower_multiple.png', '_r30berries.png', 'sweets.png', '_r30_s1200clean_walls.png', 'kore_multiple.png', 'port.png', '_r30sweets.png', 'port_multiple.png', 'lone_cat_multiple.png', 'beach_wood.png', 'threehundred_multiple.png', 'mykene_multiple.png', '_r30_s1200window.png', 'writing_history_multiple.png', '_r30window.png', 'window.png', 'berries_multiple.png', 'swan_multiple.png', 'wading_multiple.png', '_r30_s1200fountain.png', '_r30mykene.png', 'wading.png', '_r30_s1200sailing.png', '_r30_s1200lone_cat.png', 'mykene.png', 'clean_walls.png', '_r30noise_pattern.png', '_r30supermarket.png', '_r30jellyfish_chaos.png', 'clean_walls_multiple.png', '_r30kore.png', '_r30clean_walls.png', 'egyptian.png', '_r30knight_moves.png', 'horses.png', 'tree.png', 'central_park.png', 'tree_multiple.png', '_r30beach_wood.png', '_r30_s1200writing_history.png', 'disconnected_shift.png', '_r30tree.png', '_r30_s1200berries.png', '_r30ship.png', '_r30_s1200tapestry.png', 'knight_moves.png', '_r30_s1200horses.png', 'knight_moves_multiple.png', '_r30stone_ghost.png', '_r30_s1200giraffe.png', '_r30_s1200noise_pattern.png', 'mask_multiple.png', 'malawi_multiple.png', 'mask.png', '_r30_s1200wading.png', 'stone_ghost.png', '_r30statue.png', 'sailing.png', '_r30_s1200malawi.png', '_r30red_tower.png', '_r30mask.png', 'swan.png', '_r30_s1200statue.png', '_r30_s1200mykene.png', '_r30egyptian.png', 'hedge.png', '_r30extension.png', 'central_park_multiple.png', 'extension.png', '_r30threehundred.png', '_r30writing_history.png', '_r30_s1200threehundred.png', '_r30disconnected_shift.png', 'disconnected_shift_multiple.png', 'motorcycle_multi.png', '_r30_s1200sweets.png', 'writing_history.png', '_r30_s1200port.png', 'sails.png', 'threehundred.png', 'fisherman_multiple.png', 'berries.png', '_r30swan.png', '_r30_s1200dark_and_bright.png', 'lone_cat.png', '_r30_s1200sails.png', '_r30fisherman.png', 'dark_and_bright.png', '_r30_s1200stone_ghost.png', '_r30dark_and_bright.png', 'wood_carvings.png', 'malawi.png', '_r30_s1200four_babies.png', 'giraffe.png', '_r30_s1200jellyfish_chaos.png', '_r30port.png', 'barrier_multiple.png', 'sailing_multiple.png', 'noise_pattern.png', '_r30tapestry.png', 'jellyfish_chaos_multiple.png', 'wood_carvings_multiple.png', '_r30malawi.png']\n"
     ]
    }
   ],
   "source": [
    "file_names_gt_clear = []\n",
    "for name in file_names_gt:\n",
    "    file_names_gt_clear.append(name.replace('_gt.', '.'))\n",
    "print(file_names_gt_clear)"
   ],
   "metadata": {
    "collapsed": false,
    "pycharm": {
     "name": "#%%\n"
    }
   }
  },
  {
   "cell_type": "code",
   "execution_count": 22,
   "outputs": [
    {
     "name": "stdout",
     "output_type": "stream",
     "text": [
      "160\n"
     ]
    }
   ],
   "source": [
    "ok_count = 0\n",
    "for name in file_names_clear:\n",
    "    if name in file_names_gt_clear:\n",
    "        ok_count += 1\n",
    "print(ok_count)"
   ],
   "metadata": {
    "collapsed": false,
    "pycharm": {
     "name": "#%%\n"
    }
   }
  },
  {
   "cell_type": "code",
   "execution_count": 23,
   "outputs": [],
   "source": [
    "with open('MICC-F600/micc_f600_classes.txt', 'w') as dest_file:\n",
    "    for img_name in file_names_clear:\n",
    "        if img_name in file_names_gt_clear:\n",
    "            dest_file.write(img_name.split('.')[0] + '.png\\t1\\n')\n",
    "        else:\n",
    "            dest_file.write(img_name.split('.')[0] + '.png\\t0\\n')\n",
    "\n",
    "dest_file.close()"
   ],
   "metadata": {
    "collapsed": false,
    "pycharm": {
     "name": "#%%\n"
    }
   }
  },
  {
   "cell_type": "code",
   "execution_count": null,
   "outputs": [],
   "source": [],
   "metadata": {
    "collapsed": false,
    "pycharm": {
     "name": "#%%\n"
    }
   }
  }
 ],
 "metadata": {
  "kernelspec": {
   "display_name": "Python 3",
   "language": "python",
   "name": "python3"
  },
  "language_info": {
   "codemirror_mode": {
    "name": "ipython",
    "version": 2
   },
   "file_extension": ".py",
   "mimetype": "text/x-python",
   "name": "python",
   "nbconvert_exporter": "python",
   "pygments_lexer": "ipython2",
   "version": "2.7.6"
  }
 },
 "nbformat": 4,
 "nbformat_minor": 0
}